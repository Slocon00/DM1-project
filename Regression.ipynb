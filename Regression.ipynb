{
 "cells": [
  {
   "cell_type": "code",
   "execution_count": 75,
   "id": "6189190d-7d65-4318-ad17-95795d91999e",
   "metadata": {},
   "outputs": [],
   "source": [
    "import pandas as pd\n",
    "import numpy as np\n",
    "\n",
    "import matplotlib.pyplot as plt\n",
    "import seaborn as sns\n",
    "\n",
    "from sklearn.metrics import r2_score, mean_squared_error, mean_absolute_error\n",
    "from sklearn.linear_model import LinearRegression, Ridge, Lasso\n",
    "from sklearn.tree import DecisionTreeRegressor\n",
    "from sklearn.neighbors import KNeighborsRegressor\n",
    "\n",
    "from sklearn.model_selection import cross_val_score\n",
    "from sklearn.model_selection import KFold, RepeatedStratifiedKFold\n",
    "from sklearn.model_selection import RandomizedSearchCV, GridSearchCV"
   ]
  },
  {
   "cell_type": "code",
   "execution_count": 76,
   "id": "75a1f79c-f7f9-4cc8-b378-d4d85d941acf",
   "metadata": {},
   "outputs": [],
   "source": [
    "# tr = training set\n",
    "# ts = test set\n",
    "\n",
    "df_tr = pd.read_csv('./dataset (missing + split)/processed.csv', skipinitialspace=True)\n",
    "df_ts = pd.read_csv('./dataset (missing + split)/test.csv', skipinitialspace=True)"
   ]
  },
  {
   "cell_type": "code",
   "execution_count": 77,
   "id": "4800d79e-039e-4652-acd6-d8c7f909dcc5",
   "metadata": {},
   "outputs": [],
   "source": [
    "# preprocessing del TS set (rimozione feature, missing values e outliers)\n",
    "\n",
    "timesig = round((df_ts['n_beats'] / (df_ts['n_bars']))).fillna(0)\n",
    "df_ts['time_signature'].fillna(value=timesig, inplace=True)\n",
    "\n",
    "df_ts['mode'].fillna(df_ts.groupby('key')['mode'].transform(lambda x: x.mode()[0]), inplace=True)\n",
    "\n",
    "\n",
    "df_ts.drop(df_ts[df_ts['duration_ms'] >= 1331839].index, inplace = True)\n",
    "df_ts.drop(df_ts[df_ts['speechiness'] >= 0.567].index, inplace = True)\n",
    "\n",
    "\n",
    "df_ts.drop(columns=['features_duration_ms','n_bars','n_beats','popularity_confidence','processing','acousticness','loudness'], inplace=True)"
   ]
  },
  {
   "cell_type": "code",
   "execution_count": 78,
   "id": "9c27cca1-13b7-463b-bdac-4803fa76d922",
   "metadata": {},
   "outputs": [],
   "source": [
    "cat = ['name','explicit','artists','album_name','key','mode','time_signature','genre']\n",
    "num = [col for col in df_tr.columns if col not in cat]"
   ]
  },
  {
   "cell_type": "markdown",
   "id": "8f969255-da1b-402b-a42e-c7992e0898ae",
   "metadata": {},
   "source": [
    "# Univariate"
   ]
  },
  {
   "cell_type": "code",
   "execution_count": 79,
   "id": "d8531d7d-9552-4413-8b09-4b0b577b7deb",
   "metadata": {},
   "outputs": [],
   "source": [
    "target = 'danceability'"
   ]
  },
  {
   "cell_type": "code",
   "execution_count": 80,
   "id": "db1608ee-a729-472e-803b-fc74a7f7da26",
   "metadata": {},
   "outputs": [],
   "source": [
    "# TR set (input e target)\n",
    "X_tr = df_tr[num].drop(columns=['danceability']).values\n",
    "y_tr = df_tr[target]\n",
    "\n",
    "# TS set (input e target)\n",
    "X_ts = df_ts[num].drop(columns=['danceability']).values\n",
    "y_ts = df_ts[target]"
   ]
  },
  {
   "cell_type": "markdown",
   "id": "fd79aacc-ca7a-4486-88c4-ea5952871b18",
   "metadata": {},
   "source": [
    "## Linear"
   ]
  },
  {
   "cell_type": "code",
   "execution_count": 81,
   "id": "e4d7d4ad-14a0-4ca1-bd7b-d5a8523b12ae",
   "metadata": {},
   "outputs": [
    {
     "data": {
      "text/html": [
       "<style>#sk-container-id-28 {color: black;}#sk-container-id-28 pre{padding: 0;}#sk-container-id-28 div.sk-toggleable {background-color: white;}#sk-container-id-28 label.sk-toggleable__label {cursor: pointer;display: block;width: 100%;margin-bottom: 0;padding: 0.3em;box-sizing: border-box;text-align: center;}#sk-container-id-28 label.sk-toggleable__label-arrow:before {content: \"▸\";float: left;margin-right: 0.25em;color: #696969;}#sk-container-id-28 label.sk-toggleable__label-arrow:hover:before {color: black;}#sk-container-id-28 div.sk-estimator:hover label.sk-toggleable__label-arrow:before {color: black;}#sk-container-id-28 div.sk-toggleable__content {max-height: 0;max-width: 0;overflow: hidden;text-align: left;background-color: #f0f8ff;}#sk-container-id-28 div.sk-toggleable__content pre {margin: 0.2em;color: black;border-radius: 0.25em;background-color: #f0f8ff;}#sk-container-id-28 input.sk-toggleable__control:checked~div.sk-toggleable__content {max-height: 200px;max-width: 100%;overflow: auto;}#sk-container-id-28 input.sk-toggleable__control:checked~label.sk-toggleable__label-arrow:before {content: \"▾\";}#sk-container-id-28 div.sk-estimator input.sk-toggleable__control:checked~label.sk-toggleable__label {background-color: #d4ebff;}#sk-container-id-28 div.sk-label input.sk-toggleable__control:checked~label.sk-toggleable__label {background-color: #d4ebff;}#sk-container-id-28 input.sk-hidden--visually {border: 0;clip: rect(1px 1px 1px 1px);clip: rect(1px, 1px, 1px, 1px);height: 1px;margin: -1px;overflow: hidden;padding: 0;position: absolute;width: 1px;}#sk-container-id-28 div.sk-estimator {font-family: monospace;background-color: #f0f8ff;border: 1px dotted black;border-radius: 0.25em;box-sizing: border-box;margin-bottom: 0.5em;}#sk-container-id-28 div.sk-estimator:hover {background-color: #d4ebff;}#sk-container-id-28 div.sk-parallel-item::after {content: \"\";width: 100%;border-bottom: 1px solid gray;flex-grow: 1;}#sk-container-id-28 div.sk-label:hover label.sk-toggleable__label {background-color: #d4ebff;}#sk-container-id-28 div.sk-serial::before {content: \"\";position: absolute;border-left: 1px solid gray;box-sizing: border-box;top: 0;bottom: 0;left: 50%;z-index: 0;}#sk-container-id-28 div.sk-serial {display: flex;flex-direction: column;align-items: center;background-color: white;padding-right: 0.2em;padding-left: 0.2em;position: relative;}#sk-container-id-28 div.sk-item {position: relative;z-index: 1;}#sk-container-id-28 div.sk-parallel {display: flex;align-items: stretch;justify-content: center;background-color: white;position: relative;}#sk-container-id-28 div.sk-item::before, #sk-container-id-28 div.sk-parallel-item::before {content: \"\";position: absolute;border-left: 1px solid gray;box-sizing: border-box;top: 0;bottom: 0;left: 50%;z-index: -1;}#sk-container-id-28 div.sk-parallel-item {display: flex;flex-direction: column;z-index: 1;position: relative;background-color: white;}#sk-container-id-28 div.sk-parallel-item:first-child::after {align-self: flex-end;width: 50%;}#sk-container-id-28 div.sk-parallel-item:last-child::after {align-self: flex-start;width: 50%;}#sk-container-id-28 div.sk-parallel-item:only-child::after {width: 0;}#sk-container-id-28 div.sk-dashed-wrapped {border: 1px dashed gray;margin: 0 0.4em 0.5em 0.4em;box-sizing: border-box;padding-bottom: 0.4em;background-color: white;}#sk-container-id-28 div.sk-label label {font-family: monospace;font-weight: bold;display: inline-block;line-height: 1.2em;}#sk-container-id-28 div.sk-label-container {text-align: center;}#sk-container-id-28 div.sk-container {/* jupyter's `normalize.less` sets `[hidden] { display: none; }` but bootstrap.min.css set `[hidden] { display: none !important; }` so we also need the `!important` here to be able to override the default hidden behavior on the sphinx rendered scikit-learn.org. See: https://github.com/scikit-learn/scikit-learn/issues/21755 */display: inline-block !important;position: relative;}#sk-container-id-28 div.sk-text-repr-fallback {display: none;}</style><div id=\"sk-container-id-28\" class=\"sk-top-container\"><div class=\"sk-text-repr-fallback\"><pre>Lasso()</pre><b>In a Jupyter environment, please rerun this cell to show the HTML representation or trust the notebook. <br />On GitHub, the HTML representation is unable to render, please try loading this page with nbviewer.org.</b></div><div class=\"sk-container\" hidden><div class=\"sk-item\"><div class=\"sk-estimator sk-toggleable\"><input class=\"sk-toggleable__control sk-hidden--visually\" id=\"sk-estimator-id-28\" type=\"checkbox\" checked><label for=\"sk-estimator-id-28\" class=\"sk-toggleable__label sk-toggleable__label-arrow\">Lasso</label><div class=\"sk-toggleable__content\"><pre>Lasso()</pre></div></div></div></div></div>"
      ],
      "text/plain": [
       "Lasso()"
      ]
     },
     "execution_count": 81,
     "metadata": {},
     "output_type": "execute_result"
    }
   ],
   "source": [
    "linear = LinearRegression()\n",
    "linear.fit(X_tr, y_tr)\n",
    "\n",
    "ridge = Ridge()\n",
    "ridge.fit(X_tr, y_tr)\n",
    "\n",
    "lasso = Lasso()\n",
    "lasso.fit(X_tr, y_tr)"
   ]
  },
  {
   "cell_type": "markdown",
   "id": "14e355f0-a898-4e7d-b425-f96dd3ba85bc",
   "metadata": {},
   "source": [
    "#### Generalization error"
   ]
  },
  {
   "cell_type": "code",
   "execution_count": 82,
   "id": "1a7e187a-a37f-4dff-be61-f943d275966a",
   "metadata": {},
   "outputs": [
    {
     "name": "stdout",
     "output_type": "stream",
     "text": [
      "Generalization error\n",
      "\n",
      "LINEAR          RIDGE           LASSO          \n",
      "R2: 0.356       R2: 0.356       R2: 0.002       \n",
      "MSE: 0.024      MSE: 0.024      MSE: 0.037      \n",
      "MAE: 0.125      MAE: 0.125      MAE: 0.153      \n",
      "\n",
      "\n",
      "Loss\n",
      "\n",
      "LINEAR          RIDGE           LASSO          \n",
      "R2: 0.350       R2: 0.350       R2: 0.004       \n",
      "MSE: 0.024      MSE: 0.024      MSE: 0.037      \n",
      "MAE: 0.126      MAE: 0.126      MAE: 0.154      \n"
     ]
    }
   ],
   "source": [
    "print('Generalization error\\n')\n",
    "\n",
    "print('LINEAR'.ljust(15), 'RIDGE'.ljust(15), 'LASSO'.ljust(15))\n",
    "print('R2: %.3f'.ljust(14) % r2_score(y_ts, linear.predict(X_ts)),\n",
    "      'R2: %.3f'.ljust(14) % r2_score(y_ts, ridge.predict(X_ts)),\n",
    "      'R2: %.3f'.ljust(15) % r2_score(y_ts, lasso.predict(X_ts)))\n",
    "\n",
    "print('MSE: %.3f'.ljust(14) % mean_squared_error(y_ts, linear.predict(X_ts)),\n",
    "      'MSE: %.3f'.ljust(14) % mean_squared_error(y_ts, ridge.predict(X_ts)),\n",
    "      'MSE: %.3f'.ljust(15) % mean_squared_error(y_ts, lasso.predict(X_ts)))\n",
    "\n",
    "print('MAE: %.3f'.ljust(14) % mean_absolute_error(y_ts, linear.predict(X_ts)),\n",
    "      'MAE: %.3f'.ljust(14) % mean_absolute_error(y_ts, ridge.predict(X_ts)),\n",
    "      'MAE: %.3f'.ljust(15) % mean_absolute_error(y_ts, lasso.predict(X_ts)))\n",
    "\n",
    "print('\\n')\n",
    "print('Loss\\n')\n",
    "\n",
    "print('LINEAR'.ljust(15), 'RIDGE'.ljust(15), 'LASSO'.ljust(15))\n",
    "print('R2: %.3f'.ljust(14) % r2_score(y_tr, linear.predict(X_tr)),\n",
    "      'R2: %.3f'.ljust(14) % r2_score(y_tr, ridge.predict(X_tr)),\n",
    "      'R2: %.3f'.ljust(15) % r2_score(y_tr, lasso.predict(X_tr)))\n",
    "\n",
    "print('MSE: %.3f'.ljust(14) % mean_squared_error(y_tr, linear.predict(X_tr)),\n",
    "      'MSE: %.3f'.ljust(14) % mean_squared_error(y_tr, ridge.predict(X_tr)),\n",
    "      'MSE: %.3f'.ljust(15) % mean_squared_error(y_tr, lasso.predict(X_tr)))\n",
    "\n",
    "print('MAE: %.3f'.ljust(14) % mean_absolute_error(y_tr, linear.predict(X_tr)),\n",
    "      'MAE: %.3f'.ljust(14) % mean_absolute_error(y_tr, ridge.predict(X_tr)),\n",
    "      'MAE: %.3f'.ljust(15) % mean_absolute_error(y_tr, lasso.predict(X_tr)))"
   ]
  },
  {
   "cell_type": "markdown",
   "id": "70c6676b-029b-4450-a105-6ff02bf70fc4",
   "metadata": {},
   "source": [
    "### Nonlinear Regression"
   ]
  },
  {
   "cell_type": "code",
   "execution_count": 83,
   "id": "a4525de9-4829-4ee6-91a4-5622747e8f20",
   "metadata": {},
   "outputs": [
    {
     "data": {
      "text/html": [
       "<style>#sk-container-id-29 {color: black;}#sk-container-id-29 pre{padding: 0;}#sk-container-id-29 div.sk-toggleable {background-color: white;}#sk-container-id-29 label.sk-toggleable__label {cursor: pointer;display: block;width: 100%;margin-bottom: 0;padding: 0.3em;box-sizing: border-box;text-align: center;}#sk-container-id-29 label.sk-toggleable__label-arrow:before {content: \"▸\";float: left;margin-right: 0.25em;color: #696969;}#sk-container-id-29 label.sk-toggleable__label-arrow:hover:before {color: black;}#sk-container-id-29 div.sk-estimator:hover label.sk-toggleable__label-arrow:before {color: black;}#sk-container-id-29 div.sk-toggleable__content {max-height: 0;max-width: 0;overflow: hidden;text-align: left;background-color: #f0f8ff;}#sk-container-id-29 div.sk-toggleable__content pre {margin: 0.2em;color: black;border-radius: 0.25em;background-color: #f0f8ff;}#sk-container-id-29 input.sk-toggleable__control:checked~div.sk-toggleable__content {max-height: 200px;max-width: 100%;overflow: auto;}#sk-container-id-29 input.sk-toggleable__control:checked~label.sk-toggleable__label-arrow:before {content: \"▾\";}#sk-container-id-29 div.sk-estimator input.sk-toggleable__control:checked~label.sk-toggleable__label {background-color: #d4ebff;}#sk-container-id-29 div.sk-label input.sk-toggleable__control:checked~label.sk-toggleable__label {background-color: #d4ebff;}#sk-container-id-29 input.sk-hidden--visually {border: 0;clip: rect(1px 1px 1px 1px);clip: rect(1px, 1px, 1px, 1px);height: 1px;margin: -1px;overflow: hidden;padding: 0;position: absolute;width: 1px;}#sk-container-id-29 div.sk-estimator {font-family: monospace;background-color: #f0f8ff;border: 1px dotted black;border-radius: 0.25em;box-sizing: border-box;margin-bottom: 0.5em;}#sk-container-id-29 div.sk-estimator:hover {background-color: #d4ebff;}#sk-container-id-29 div.sk-parallel-item::after {content: \"\";width: 100%;border-bottom: 1px solid gray;flex-grow: 1;}#sk-container-id-29 div.sk-label:hover label.sk-toggleable__label {background-color: #d4ebff;}#sk-container-id-29 div.sk-serial::before {content: \"\";position: absolute;border-left: 1px solid gray;box-sizing: border-box;top: 0;bottom: 0;left: 50%;z-index: 0;}#sk-container-id-29 div.sk-serial {display: flex;flex-direction: column;align-items: center;background-color: white;padding-right: 0.2em;padding-left: 0.2em;position: relative;}#sk-container-id-29 div.sk-item {position: relative;z-index: 1;}#sk-container-id-29 div.sk-parallel {display: flex;align-items: stretch;justify-content: center;background-color: white;position: relative;}#sk-container-id-29 div.sk-item::before, #sk-container-id-29 div.sk-parallel-item::before {content: \"\";position: absolute;border-left: 1px solid gray;box-sizing: border-box;top: 0;bottom: 0;left: 50%;z-index: -1;}#sk-container-id-29 div.sk-parallel-item {display: flex;flex-direction: column;z-index: 1;position: relative;background-color: white;}#sk-container-id-29 div.sk-parallel-item:first-child::after {align-self: flex-end;width: 50%;}#sk-container-id-29 div.sk-parallel-item:last-child::after {align-self: flex-start;width: 50%;}#sk-container-id-29 div.sk-parallel-item:only-child::after {width: 0;}#sk-container-id-29 div.sk-dashed-wrapped {border: 1px dashed gray;margin: 0 0.4em 0.5em 0.4em;box-sizing: border-box;padding-bottom: 0.4em;background-color: white;}#sk-container-id-29 div.sk-label label {font-family: monospace;font-weight: bold;display: inline-block;line-height: 1.2em;}#sk-container-id-29 div.sk-label-container {text-align: center;}#sk-container-id-29 div.sk-container {/* jupyter's `normalize.less` sets `[hidden] { display: none; }` but bootstrap.min.css set `[hidden] { display: none !important; }` so we also need the `!important` here to be able to override the default hidden behavior on the sphinx rendered scikit-learn.org. See: https://github.com/scikit-learn/scikit-learn/issues/21755 */display: inline-block !important;position: relative;}#sk-container-id-29 div.sk-text-repr-fallback {display: none;}</style><div id=\"sk-container-id-29\" class=\"sk-top-container\"><div class=\"sk-text-repr-fallback\"><pre>StandardScaler()</pre><b>In a Jupyter environment, please rerun this cell to show the HTML representation or trust the notebook. <br />On GitHub, the HTML representation is unable to render, please try loading this page with nbviewer.org.</b></div><div class=\"sk-container\" hidden><div class=\"sk-item\"><div class=\"sk-estimator sk-toggleable\"><input class=\"sk-toggleable__control sk-hidden--visually\" id=\"sk-estimator-id-29\" type=\"checkbox\" checked><label for=\"sk-estimator-id-29\" class=\"sk-toggleable__label sk-toggleable__label-arrow\">StandardScaler</label><div class=\"sk-toggleable__content\"><pre>StandardScaler()</pre></div></div></div></div></div>"
      ],
      "text/plain": [
       "StandardScaler()"
      ]
     },
     "execution_count": 83,
     "metadata": {},
     "output_type": "execute_result"
    }
   ],
   "source": [
    "from sklearn.preprocessing import StandardScaler\n",
    "norm = StandardScaler()\n",
    "norm.fit(X_tr)"
   ]
  },
  {
   "cell_type": "code",
   "execution_count": 84,
   "id": "d3673be7-5c11-415e-8ef5-f55759728569",
   "metadata": {},
   "outputs": [
    {
     "name": "stdout",
     "output_type": "stream",
     "text": [
      "Fitting 10 folds for each of 100 candidates, totalling 1000 fits\n",
      "CPU times: user 1.82 s, sys: 421 ms, total: 2.24 s\n",
      "Wall time: 2min 5s\n"
     ]
    }
   ],
   "source": [
    "%%time\n",
    "\n",
    "# Iperparametri scelti con grid search + k-fold cross validation\n",
    "param_grid = {\n",
    "    \"n_neighbors\": np.arange(start=10, stop=501, step=10),\n",
    "    \"weights\": [\"uniform\"],\n",
    "    \"metric\": [\"euclidean\", \"cityblock\"],\n",
    "}\n",
    "\n",
    "grid_search = GridSearchCV(\n",
    "    KNeighborsRegressor(),\n",
    "    param_grid=param_grid,\n",
    "    cv=KFold(n_splits=10, shuffle=True, random_state=0),\n",
    "    n_jobs=-1,\n",
    "    refit=True,\n",
    "    verbose=1,\n",
    ")\n",
    "\n",
    "grid_search.fit(norm.transform(X_tr), y_tr)\n",
    "knn_reg = grid_search.best_estimator_"
   ]
  },
  {
   "cell_type": "code",
   "execution_count": 85,
   "id": "9676b111-ee6a-47a6-b51b-2dfcbb3a9698",
   "metadata": {},
   "outputs": [
    {
     "name": "stdout",
     "output_type": "stream",
     "text": [
      "cityblock 20 uniform\n"
     ]
    }
   ],
   "source": [
    "print(knn_reg.metric, knn_reg.n_neighbors, knn_reg.weights)"
   ]
  },
  {
   "cell_type": "code",
   "execution_count": 9,
   "id": "ed458a75-7885-4825-a168-1e448c5e040e",
   "metadata": {},
   "outputs": [
    {
     "name": "stdout",
     "output_type": "stream",
     "text": [
      "Fitting 5 folds for each of 490 candidates, totalling 2450 fits\n",
      "CPU times: user 4.95 s, sys: 1.56 s, total: 6.51 s\n",
      "Wall time: 21min 54s\n"
     ]
    }
   ],
   "source": [
    "%%time\n",
    "\n",
    "# Ricerca di iperparametri come sopra ('None' a max_depth corrisponde a nessun limite di profondità)\n",
    "param_grid = {\n",
    "    'max_depth': list(np.arange(1, 102, step=20)) + [None],\n",
    "    'min_samples_split': [2, 4, 8, 16, 32],\n",
    "    'min_samples_leaf': [2, 4, 8, 16, 32, 64, 128],\n",
    "    'criterion': ['squared_error', 'absolute_error']\n",
    "}\n",
    "\n",
    "grid_search = GridSearchCV(\n",
    "    DecisionTreeRegressor(random_state=0),\n",
    "    param_grid=param_grid,\n",
    "    cv=KFold(n_splits=5, shuffle=True, random_state=0),\n",
    "    n_jobs=-1,\n",
    "    refit=True,\n",
    "    verbose=1,\n",
    ")\n",
    "\n",
    "grid_search.fit(X_tr, y_tr)\n",
    "dt_reg = grid_search.best_estimator_"
   ]
  },
  {
   "cell_type": "code",
   "execution_count": 10,
   "id": "04ed5a42-2ae7-42e0-a568-cf74c9237eb9",
   "metadata": {},
   "outputs": [
    {
     "name": "stdout",
     "output_type": "stream",
     "text": [
      "21 2 64 squared_error\n"
     ]
    }
   ],
   "source": [
    "print(dt_reg.max_depth, dt_reg.min_samples_split, dt_reg.min_samples_leaf, dt_reg.criterion)"
   ]
  },
  {
   "cell_type": "code",
   "execution_count": 86,
   "id": "5c023b8e-2d1a-4a24-ba2c-e5fc77fb1c41",
   "metadata": {},
   "outputs": [
    {
     "data": {
      "text/html": [
       "<style>#sk-container-id-30 {color: black;}#sk-container-id-30 pre{padding: 0;}#sk-container-id-30 div.sk-toggleable {background-color: white;}#sk-container-id-30 label.sk-toggleable__label {cursor: pointer;display: block;width: 100%;margin-bottom: 0;padding: 0.3em;box-sizing: border-box;text-align: center;}#sk-container-id-30 label.sk-toggleable__label-arrow:before {content: \"▸\";float: left;margin-right: 0.25em;color: #696969;}#sk-container-id-30 label.sk-toggleable__label-arrow:hover:before {color: black;}#sk-container-id-30 div.sk-estimator:hover label.sk-toggleable__label-arrow:before {color: black;}#sk-container-id-30 div.sk-toggleable__content {max-height: 0;max-width: 0;overflow: hidden;text-align: left;background-color: #f0f8ff;}#sk-container-id-30 div.sk-toggleable__content pre {margin: 0.2em;color: black;border-radius: 0.25em;background-color: #f0f8ff;}#sk-container-id-30 input.sk-toggleable__control:checked~div.sk-toggleable__content {max-height: 200px;max-width: 100%;overflow: auto;}#sk-container-id-30 input.sk-toggleable__control:checked~label.sk-toggleable__label-arrow:before {content: \"▾\";}#sk-container-id-30 div.sk-estimator input.sk-toggleable__control:checked~label.sk-toggleable__label {background-color: #d4ebff;}#sk-container-id-30 div.sk-label input.sk-toggleable__control:checked~label.sk-toggleable__label {background-color: #d4ebff;}#sk-container-id-30 input.sk-hidden--visually {border: 0;clip: rect(1px 1px 1px 1px);clip: rect(1px, 1px, 1px, 1px);height: 1px;margin: -1px;overflow: hidden;padding: 0;position: absolute;width: 1px;}#sk-container-id-30 div.sk-estimator {font-family: monospace;background-color: #f0f8ff;border: 1px dotted black;border-radius: 0.25em;box-sizing: border-box;margin-bottom: 0.5em;}#sk-container-id-30 div.sk-estimator:hover {background-color: #d4ebff;}#sk-container-id-30 div.sk-parallel-item::after {content: \"\";width: 100%;border-bottom: 1px solid gray;flex-grow: 1;}#sk-container-id-30 div.sk-label:hover label.sk-toggleable__label {background-color: #d4ebff;}#sk-container-id-30 div.sk-serial::before {content: \"\";position: absolute;border-left: 1px solid gray;box-sizing: border-box;top: 0;bottom: 0;left: 50%;z-index: 0;}#sk-container-id-30 div.sk-serial {display: flex;flex-direction: column;align-items: center;background-color: white;padding-right: 0.2em;padding-left: 0.2em;position: relative;}#sk-container-id-30 div.sk-item {position: relative;z-index: 1;}#sk-container-id-30 div.sk-parallel {display: flex;align-items: stretch;justify-content: center;background-color: white;position: relative;}#sk-container-id-30 div.sk-item::before, #sk-container-id-30 div.sk-parallel-item::before {content: \"\";position: absolute;border-left: 1px solid gray;box-sizing: border-box;top: 0;bottom: 0;left: 50%;z-index: -1;}#sk-container-id-30 div.sk-parallel-item {display: flex;flex-direction: column;z-index: 1;position: relative;background-color: white;}#sk-container-id-30 div.sk-parallel-item:first-child::after {align-self: flex-end;width: 50%;}#sk-container-id-30 div.sk-parallel-item:last-child::after {align-self: flex-start;width: 50%;}#sk-container-id-30 div.sk-parallel-item:only-child::after {width: 0;}#sk-container-id-30 div.sk-dashed-wrapped {border: 1px dashed gray;margin: 0 0.4em 0.5em 0.4em;box-sizing: border-box;padding-bottom: 0.4em;background-color: white;}#sk-container-id-30 div.sk-label label {font-family: monospace;font-weight: bold;display: inline-block;line-height: 1.2em;}#sk-container-id-30 div.sk-label-container {text-align: center;}#sk-container-id-30 div.sk-container {/* jupyter's `normalize.less` sets `[hidden] { display: none; }` but bootstrap.min.css set `[hidden] { display: none !important; }` so we also need the `!important` here to be able to override the default hidden behavior on the sphinx rendered scikit-learn.org. See: https://github.com/scikit-learn/scikit-learn/issues/21755 */display: inline-block !important;position: relative;}#sk-container-id-30 div.sk-text-repr-fallback {display: none;}</style><div id=\"sk-container-id-30\" class=\"sk-top-container\"><div class=\"sk-text-repr-fallback\"><pre>KNeighborsRegressor(metric=&#x27;cityblock&#x27;, n_neighbors=20)</pre><b>In a Jupyter environment, please rerun this cell to show the HTML representation or trust the notebook. <br />On GitHub, the HTML representation is unable to render, please try loading this page with nbviewer.org.</b></div><div class=\"sk-container\" hidden><div class=\"sk-item\"><div class=\"sk-estimator sk-toggleable\"><input class=\"sk-toggleable__control sk-hidden--visually\" id=\"sk-estimator-id-30\" type=\"checkbox\" checked><label for=\"sk-estimator-id-30\" class=\"sk-toggleable__label sk-toggleable__label-arrow\">KNeighborsRegressor</label><div class=\"sk-toggleable__content\"><pre>KNeighborsRegressor(metric=&#x27;cityblock&#x27;, n_neighbors=20)</pre></div></div></div></div></div>"
      ],
      "text/plain": [
       "KNeighborsRegressor(metric='cityblock', n_neighbors=20)"
      ]
     },
     "execution_count": 86,
     "metadata": {},
     "output_type": "execute_result"
    }
   ],
   "source": [
    "dt_reg = DecisionTreeRegressor(max_depth=21, min_samples_split=2, min_samples_leaf=64, criterion='squared_error')\n",
    "dt_reg.fit(X_tr, y_tr)\n",
    "\n",
    "knn_reg = KNeighborsRegressor(metric='cityblock', n_neighbors=20, weights='uniform')\n",
    "knn_reg.fit(norm.transform(X_tr), y_tr)"
   ]
  },
  {
   "cell_type": "markdown",
   "id": "ddc27e3f-7667-4b78-b3d4-06dc49abf3b8",
   "metadata": {},
   "source": [
    "#### Generalization error and Loss"
   ]
  },
  {
   "cell_type": "code",
   "execution_count": 87,
   "id": "1321bc96-54e9-4ddc-8eb0-6e2897c9370d",
   "metadata": {},
   "outputs": [
    {
     "name": "stdout",
     "output_type": "stream",
     "text": [
      "Generalization error\n",
      "\n",
      "DEC TREE        KNN            \n",
      "R2: 0.541       R2: 0.590      \n",
      "MSE: 0.017      MSE: 0.015     \n",
      "MAE: 0.101      MAE: 0.095     \n",
      "\n",
      "\n",
      "Loss\n",
      "\n",
      "DEC TREE        KNN            \n",
      "R2: 0.599       R2: 0.625      \n",
      "MSE: 0.015      MSE: 0.014     \n",
      "MAE: 0.095      MAE: 0.092     \n"
     ]
    }
   ],
   "source": [
    "print('Generalization error\\n')\n",
    "\n",
    "print('DEC TREE'.ljust(15), 'KNN'.ljust(15))\n",
    "print('R2: %.3f'.ljust(14) % r2_score(y_ts, dt_reg.predict(X_ts)),\n",
    "      'R2: %.3f'.ljust(14) % r2_score(y_ts, knn_reg.predict(norm.transform(X_ts))))\n",
    "\n",
    "print('MSE: %.3f'.ljust(14) % mean_squared_error(y_ts, dt_reg.predict(X_ts)),\n",
    "      'MSE: %.3f'.ljust(14) % mean_squared_error(y_ts, knn_reg.predict(norm.transform(X_ts))))\n",
    "\n",
    "print('MAE: %.3f'.ljust(14) % mean_absolute_error(y_ts, dt_reg.predict(X_ts)),\n",
    "      'MAE: %.3f'.ljust(14) % mean_absolute_error(y_ts, knn_reg.predict(norm.transform(X_ts))))\n",
    "\n",
    "print('\\n')\n",
    "print('Loss\\n')\n",
    "\n",
    "print('DEC TREE'.ljust(15), 'KNN'.ljust(15))\n",
    "print('R2: %.3f'.ljust(14) % r2_score(y_tr, dt_reg.predict(X_tr)),\n",
    "      'R2: %.3f'.ljust(14) % r2_score(y_tr, knn_reg.predict(norm.transform(X_tr))))\n",
    "\n",
    "print('MSE: %.3f'.ljust(14) % mean_squared_error(y_tr, dt_reg.predict(X_tr)),\n",
    "      'MSE: %.3f'.ljust(14) % mean_squared_error(y_tr, knn_reg.predict(norm.transform(X_tr))))\n",
    "\n",
    "print('MAE: %.3f'.ljust(14) % mean_absolute_error(y_tr, dt_reg.predict(X_tr)),\n",
    "      'MAE: %.3f'.ljust(14) % mean_absolute_error(y_tr, knn_reg.predict(norm.transform(X_tr))))"
   ]
  },
  {
   "cell_type": "markdown",
   "id": "f15993d5-03e7-4505-8a4c-344814ddc20a",
   "metadata": {},
   "source": [
    "# Multivariate"
   ]
  },
  {
   "cell_type": "code",
   "execution_count": 88,
   "id": "822ba479-0789-49fa-968e-ccec8a6d2618",
   "metadata": {},
   "outputs": [],
   "source": [
    "target = ['danceability', 'instrumentalness']"
   ]
  },
  {
   "cell_type": "code",
   "execution_count": 89,
   "id": "5c478b21-551f-422d-a1d2-6730ed92c59c",
   "metadata": {},
   "outputs": [],
   "source": [
    "# TR set (input e target)\n",
    "X_tr = df_tr[num].drop(columns=['danceability', 'instrumentalness']).values\n",
    "y_tr = df_tr[target].values\n",
    "\n",
    "# TS set (input e target)\n",
    "X_ts = df_ts[num].drop(columns=['danceability', 'instrumentalness']).values\n",
    "y_ts = df_ts[target].values"
   ]
  },
  {
   "cell_type": "markdown",
   "id": "edd35d5a-74e1-4799-9665-30e2c1ab18db",
   "metadata": {},
   "source": [
    "## Linear"
   ]
  },
  {
   "cell_type": "code",
   "execution_count": 90,
   "id": "fbd22847-3348-4697-86c4-8979475d9f09",
   "metadata": {},
   "outputs": [
    {
     "data": {
      "text/html": [
       "<style>#sk-container-id-31 {color: black;}#sk-container-id-31 pre{padding: 0;}#sk-container-id-31 div.sk-toggleable {background-color: white;}#sk-container-id-31 label.sk-toggleable__label {cursor: pointer;display: block;width: 100%;margin-bottom: 0;padding: 0.3em;box-sizing: border-box;text-align: center;}#sk-container-id-31 label.sk-toggleable__label-arrow:before {content: \"▸\";float: left;margin-right: 0.25em;color: #696969;}#sk-container-id-31 label.sk-toggleable__label-arrow:hover:before {color: black;}#sk-container-id-31 div.sk-estimator:hover label.sk-toggleable__label-arrow:before {color: black;}#sk-container-id-31 div.sk-toggleable__content {max-height: 0;max-width: 0;overflow: hidden;text-align: left;background-color: #f0f8ff;}#sk-container-id-31 div.sk-toggleable__content pre {margin: 0.2em;color: black;border-radius: 0.25em;background-color: #f0f8ff;}#sk-container-id-31 input.sk-toggleable__control:checked~div.sk-toggleable__content {max-height: 200px;max-width: 100%;overflow: auto;}#sk-container-id-31 input.sk-toggleable__control:checked~label.sk-toggleable__label-arrow:before {content: \"▾\";}#sk-container-id-31 div.sk-estimator input.sk-toggleable__control:checked~label.sk-toggleable__label {background-color: #d4ebff;}#sk-container-id-31 div.sk-label input.sk-toggleable__control:checked~label.sk-toggleable__label {background-color: #d4ebff;}#sk-container-id-31 input.sk-hidden--visually {border: 0;clip: rect(1px 1px 1px 1px);clip: rect(1px, 1px, 1px, 1px);height: 1px;margin: -1px;overflow: hidden;padding: 0;position: absolute;width: 1px;}#sk-container-id-31 div.sk-estimator {font-family: monospace;background-color: #f0f8ff;border: 1px dotted black;border-radius: 0.25em;box-sizing: border-box;margin-bottom: 0.5em;}#sk-container-id-31 div.sk-estimator:hover {background-color: #d4ebff;}#sk-container-id-31 div.sk-parallel-item::after {content: \"\";width: 100%;border-bottom: 1px solid gray;flex-grow: 1;}#sk-container-id-31 div.sk-label:hover label.sk-toggleable__label {background-color: #d4ebff;}#sk-container-id-31 div.sk-serial::before {content: \"\";position: absolute;border-left: 1px solid gray;box-sizing: border-box;top: 0;bottom: 0;left: 50%;z-index: 0;}#sk-container-id-31 div.sk-serial {display: flex;flex-direction: column;align-items: center;background-color: white;padding-right: 0.2em;padding-left: 0.2em;position: relative;}#sk-container-id-31 div.sk-item {position: relative;z-index: 1;}#sk-container-id-31 div.sk-parallel {display: flex;align-items: stretch;justify-content: center;background-color: white;position: relative;}#sk-container-id-31 div.sk-item::before, #sk-container-id-31 div.sk-parallel-item::before {content: \"\";position: absolute;border-left: 1px solid gray;box-sizing: border-box;top: 0;bottom: 0;left: 50%;z-index: -1;}#sk-container-id-31 div.sk-parallel-item {display: flex;flex-direction: column;z-index: 1;position: relative;background-color: white;}#sk-container-id-31 div.sk-parallel-item:first-child::after {align-self: flex-end;width: 50%;}#sk-container-id-31 div.sk-parallel-item:last-child::after {align-self: flex-start;width: 50%;}#sk-container-id-31 div.sk-parallel-item:only-child::after {width: 0;}#sk-container-id-31 div.sk-dashed-wrapped {border: 1px dashed gray;margin: 0 0.4em 0.5em 0.4em;box-sizing: border-box;padding-bottom: 0.4em;background-color: white;}#sk-container-id-31 div.sk-label label {font-family: monospace;font-weight: bold;display: inline-block;line-height: 1.2em;}#sk-container-id-31 div.sk-label-container {text-align: center;}#sk-container-id-31 div.sk-container {/* jupyter's `normalize.less` sets `[hidden] { display: none; }` but bootstrap.min.css set `[hidden] { display: none !important; }` so we also need the `!important` here to be able to override the default hidden behavior on the sphinx rendered scikit-learn.org. See: https://github.com/scikit-learn/scikit-learn/issues/21755 */display: inline-block !important;position: relative;}#sk-container-id-31 div.sk-text-repr-fallback {display: none;}</style><div id=\"sk-container-id-31\" class=\"sk-top-container\"><div class=\"sk-text-repr-fallback\"><pre>Lasso()</pre><b>In a Jupyter environment, please rerun this cell to show the HTML representation or trust the notebook. <br />On GitHub, the HTML representation is unable to render, please try loading this page with nbviewer.org.</b></div><div class=\"sk-container\" hidden><div class=\"sk-item\"><div class=\"sk-estimator sk-toggleable\"><input class=\"sk-toggleable__control sk-hidden--visually\" id=\"sk-estimator-id-31\" type=\"checkbox\" checked><label for=\"sk-estimator-id-31\" class=\"sk-toggleable__label sk-toggleable__label-arrow\">Lasso</label><div class=\"sk-toggleable__content\"><pre>Lasso()</pre></div></div></div></div></div>"
      ],
      "text/plain": [
       "Lasso()"
      ]
     },
     "execution_count": 90,
     "metadata": {},
     "output_type": "execute_result"
    }
   ],
   "source": [
    "linear = LinearRegression()\n",
    "linear.fit(X_tr, y_tr)\n",
    "\n",
    "ridge = Ridge()\n",
    "ridge.fit(X_tr, y_tr)\n",
    "\n",
    "lasso = Lasso()\n",
    "lasso.fit(X_tr, y_tr)"
   ]
  },
  {
   "cell_type": "markdown",
   "id": "9d222d01-71f5-4bb5-acc6-599468c05799",
   "metadata": {},
   "source": [
    "#### Generalization error and Loss"
   ]
  },
  {
   "cell_type": "code",
   "execution_count": 91,
   "id": "0962e140-84f7-4b05-b25c-73fd9527756d",
   "metadata": {},
   "outputs": [
    {
     "name": "stdout",
     "output_type": "stream",
     "text": [
      "Generalization error\n",
      "\n",
      "LINEAR          RIDGE           LASSO          \n",
      "R2: 0.290       R2: 0.290       R2: 0.039       \n",
      "MSE: 0.069      MSE: 0.069      MSE: 0.086      \n",
      "MAE: 0.205      MAE: 0.205      MAE: 0.243      \n",
      "\n",
      "\n",
      "Loss\n",
      "\n",
      "LINEAR          RIDGE           LASSO          \n",
      "R2: 0.282       R2: 0.282       R2: 0.035       \n",
      "MSE: 0.070      MSE: 0.070      MSE: 0.087      \n",
      "MAE: 0.206      MAE: 0.206      MAE: 0.244      \n"
     ]
    }
   ],
   "source": [
    "print('Generalization error\\n')\n",
    "\n",
    "print('LINEAR'.ljust(15), 'RIDGE'.ljust(15), 'LASSO'.ljust(15))\n",
    "print('R2: %.3f'.ljust(14) % r2_score(y_ts, linear.predict(X_ts)),\n",
    "      'R2: %.3f'.ljust(14) % r2_score(y_ts, ridge.predict(X_ts)),\n",
    "      'R2: %.3f'.ljust(15) % r2_score(y_ts, lasso.predict(X_ts)))\n",
    "\n",
    "print('MSE: %.3f'.ljust(14) % mean_squared_error(y_ts, linear.predict(X_ts)),\n",
    "      'MSE: %.3f'.ljust(14) % mean_squared_error(y_ts, ridge.predict(X_ts)),\n",
    "      'MSE: %.3f'.ljust(15) % mean_squared_error(y_ts, lasso.predict(X_ts)))\n",
    "\n",
    "print('MAE: %.3f'.ljust(14) % mean_absolute_error(y_ts, linear.predict(X_ts)),\n",
    "      'MAE: %.3f'.ljust(14) % mean_absolute_error(y_ts, ridge.predict(X_ts)),\n",
    "      'MAE: %.3f'.ljust(15) % mean_absolute_error(y_ts, lasso.predict(X_ts)))\n",
    "\n",
    "print('\\n')\n",
    "print('Loss\\n')\n",
    "\n",
    "print('LINEAR'.ljust(15), 'RIDGE'.ljust(15), 'LASSO'.ljust(15))\n",
    "print('R2: %.3f'.ljust(14) % r2_score(y_tr, linear.predict(X_tr)),\n",
    "      'R2: %.3f'.ljust(14) % r2_score(y_tr, ridge.predict(X_tr)),\n",
    "      'R2: %.3f'.ljust(15) % r2_score(y_tr, lasso.predict(X_tr)))\n",
    "\n",
    "print('MSE: %.3f'.ljust(14) % mean_squared_error(y_tr, linear.predict(X_tr)),\n",
    "      'MSE: %.3f'.ljust(14) % mean_squared_error(y_tr, ridge.predict(X_tr)),\n",
    "      'MSE: %.3f'.ljust(15) % mean_squared_error(y_tr, lasso.predict(X_tr)))\n",
    "\n",
    "print('MAE: %.3f'.ljust(14) % mean_absolute_error(y_tr, linear.predict(X_tr)),\n",
    "      'MAE: %.3f'.ljust(14) % mean_absolute_error(y_tr, ridge.predict(X_tr)),\n",
    "      'MAE: %.3f'.ljust(15) % mean_absolute_error(y_tr, lasso.predict(X_tr)))"
   ]
  },
  {
   "cell_type": "code",
   "execution_count": 92,
   "id": "176e99d7-9a86-41ca-8b19-8431d6092744",
   "metadata": {},
   "outputs": [
    {
     "data": {
      "text/html": [
       "<style>#sk-container-id-32 {color: black;}#sk-container-id-32 pre{padding: 0;}#sk-container-id-32 div.sk-toggleable {background-color: white;}#sk-container-id-32 label.sk-toggleable__label {cursor: pointer;display: block;width: 100%;margin-bottom: 0;padding: 0.3em;box-sizing: border-box;text-align: center;}#sk-container-id-32 label.sk-toggleable__label-arrow:before {content: \"▸\";float: left;margin-right: 0.25em;color: #696969;}#sk-container-id-32 label.sk-toggleable__label-arrow:hover:before {color: black;}#sk-container-id-32 div.sk-estimator:hover label.sk-toggleable__label-arrow:before {color: black;}#sk-container-id-32 div.sk-toggleable__content {max-height: 0;max-width: 0;overflow: hidden;text-align: left;background-color: #f0f8ff;}#sk-container-id-32 div.sk-toggleable__content pre {margin: 0.2em;color: black;border-radius: 0.25em;background-color: #f0f8ff;}#sk-container-id-32 input.sk-toggleable__control:checked~div.sk-toggleable__content {max-height: 200px;max-width: 100%;overflow: auto;}#sk-container-id-32 input.sk-toggleable__control:checked~label.sk-toggleable__label-arrow:before {content: \"▾\";}#sk-container-id-32 div.sk-estimator input.sk-toggleable__control:checked~label.sk-toggleable__label {background-color: #d4ebff;}#sk-container-id-32 div.sk-label input.sk-toggleable__control:checked~label.sk-toggleable__label {background-color: #d4ebff;}#sk-container-id-32 input.sk-hidden--visually {border: 0;clip: rect(1px 1px 1px 1px);clip: rect(1px, 1px, 1px, 1px);height: 1px;margin: -1px;overflow: hidden;padding: 0;position: absolute;width: 1px;}#sk-container-id-32 div.sk-estimator {font-family: monospace;background-color: #f0f8ff;border: 1px dotted black;border-radius: 0.25em;box-sizing: border-box;margin-bottom: 0.5em;}#sk-container-id-32 div.sk-estimator:hover {background-color: #d4ebff;}#sk-container-id-32 div.sk-parallel-item::after {content: \"\";width: 100%;border-bottom: 1px solid gray;flex-grow: 1;}#sk-container-id-32 div.sk-label:hover label.sk-toggleable__label {background-color: #d4ebff;}#sk-container-id-32 div.sk-serial::before {content: \"\";position: absolute;border-left: 1px solid gray;box-sizing: border-box;top: 0;bottom: 0;left: 50%;z-index: 0;}#sk-container-id-32 div.sk-serial {display: flex;flex-direction: column;align-items: center;background-color: white;padding-right: 0.2em;padding-left: 0.2em;position: relative;}#sk-container-id-32 div.sk-item {position: relative;z-index: 1;}#sk-container-id-32 div.sk-parallel {display: flex;align-items: stretch;justify-content: center;background-color: white;position: relative;}#sk-container-id-32 div.sk-item::before, #sk-container-id-32 div.sk-parallel-item::before {content: \"\";position: absolute;border-left: 1px solid gray;box-sizing: border-box;top: 0;bottom: 0;left: 50%;z-index: -1;}#sk-container-id-32 div.sk-parallel-item {display: flex;flex-direction: column;z-index: 1;position: relative;background-color: white;}#sk-container-id-32 div.sk-parallel-item:first-child::after {align-self: flex-end;width: 50%;}#sk-container-id-32 div.sk-parallel-item:last-child::after {align-self: flex-start;width: 50%;}#sk-container-id-32 div.sk-parallel-item:only-child::after {width: 0;}#sk-container-id-32 div.sk-dashed-wrapped {border: 1px dashed gray;margin: 0 0.4em 0.5em 0.4em;box-sizing: border-box;padding-bottom: 0.4em;background-color: white;}#sk-container-id-32 div.sk-label label {font-family: monospace;font-weight: bold;display: inline-block;line-height: 1.2em;}#sk-container-id-32 div.sk-label-container {text-align: center;}#sk-container-id-32 div.sk-container {/* jupyter's `normalize.less` sets `[hidden] { display: none; }` but bootstrap.min.css set `[hidden] { display: none !important; }` so we also need the `!important` here to be able to override the default hidden behavior on the sphinx rendered scikit-learn.org. See: https://github.com/scikit-learn/scikit-learn/issues/21755 */display: inline-block !important;position: relative;}#sk-container-id-32 div.sk-text-repr-fallback {display: none;}</style><div id=\"sk-container-id-32\" class=\"sk-top-container\"><div class=\"sk-text-repr-fallback\"><pre>StandardScaler()</pre><b>In a Jupyter environment, please rerun this cell to show the HTML representation or trust the notebook. <br />On GitHub, the HTML representation is unable to render, please try loading this page with nbviewer.org.</b></div><div class=\"sk-container\" hidden><div class=\"sk-item\"><div class=\"sk-estimator sk-toggleable\"><input class=\"sk-toggleable__control sk-hidden--visually\" id=\"sk-estimator-id-32\" type=\"checkbox\" checked><label for=\"sk-estimator-id-32\" class=\"sk-toggleable__label sk-toggleable__label-arrow\">StandardScaler</label><div class=\"sk-toggleable__content\"><pre>StandardScaler()</pre></div></div></div></div></div>"
      ],
      "text/plain": [
       "StandardScaler()"
      ]
     },
     "execution_count": 92,
     "metadata": {},
     "output_type": "execute_result"
    }
   ],
   "source": [
    "norm = StandardScaler()\n",
    "norm.fit(X_tr)"
   ]
  },
  {
   "cell_type": "code",
   "execution_count": 93,
   "id": "7e763e46-81f0-48b8-b5e9-d2997ec68acd",
   "metadata": {},
   "outputs": [
    {
     "name": "stdout",
     "output_type": "stream",
     "text": [
      "Fitting 5 folds for each of 396 candidates, totalling 1980 fits\n",
      "CPU times: user 4.11 s, sys: 1.15 s, total: 5.25 s\n",
      "Wall time: 9min 2s\n"
     ]
    }
   ],
   "source": [
    "%%time\n",
    "\n",
    "# Iperparametri scelti con grid search + k-fold cross validation\n",
    "param_grid = {\n",
    "    \"n_neighbors\": np.arange(start=10, stop=1000, step=10),\n",
    "    \"weights\": [\"distance\", \"uniform\"],\n",
    "    \"metric\": [\"euclidean\", \"cityblock\"],\n",
    "}\n",
    "\n",
    "grid_search = GridSearchCV(\n",
    "    KNeighborsRegressor(),\n",
    "    param_grid=param_grid,\n",
    "    cv=KFold(n_splits=5, shuffle=True, random_state=0),\n",
    "    n_jobs=-1,\n",
    "    refit=True,\n",
    "    verbose=1,\n",
    ")\n",
    "\n",
    "grid_search.fit(norm.transform(X_tr), y_tr)\n",
    "knn_reg = grid_search.best_estimator_"
   ]
  },
  {
   "cell_type": "code",
   "execution_count": 94,
   "id": "4a2ae73e-a2b3-47b7-b724-a3a7766f60ad",
   "metadata": {},
   "outputs": [
    {
     "name": "stdout",
     "output_type": "stream",
     "text": [
      "cityblock 30 distance\n"
     ]
    }
   ],
   "source": [
    "print(knn_reg.metric, knn_reg.n_neighbors, knn_reg.weights)"
   ]
  },
  {
   "cell_type": "code",
   "execution_count": 17,
   "id": "41b1cc0b-e44c-452a-a9b1-2e5c3a59ec22",
   "metadata": {},
   "outputs": [
    {
     "name": "stdout",
     "output_type": "stream",
     "text": [
      "Fitting 5 folds for each of 686 candidates, totalling 3430 fits\n",
      "CPU times: user 10.3 s, sys: 3.87 s, total: 14.2 s\n",
      "Wall time: 1h 6min 6s\n"
     ]
    }
   ],
   "source": [
    "%%time\n",
    "\n",
    "# Ricerca di iperparametri come sopra ('None' a max_depth corrisponde a nessun limite di profondità)\n",
    "param_grid = {\n",
    "    'max_depth': list(np.arange(1, 102, step=20)) + [None],\n",
    "    'min_samples_split': [2, 4, 8, 16, 32, 64, 128],\n",
    "    'min_samples_leaf': [2, 4, 8, 16, 32, 64, 128],\n",
    "    'criterion': ['squared_error', 'absolute_error']\n",
    "}\n",
    "\n",
    "grid_search = GridSearchCV(\n",
    "    DecisionTreeRegressor(random_state=0),\n",
    "    param_grid=param_grid,\n",
    "    cv=KFold(n_splits=5, shuffle=True, random_state=0),\n",
    "    n_jobs=-1,\n",
    "    refit=True,\n",
    "    verbose=1,\n",
    ")\n",
    "\n",
    "grid_search.fit(X_tr, y_tr)\n",
    "dt_reg = grid_search.best_estimator_"
   ]
  },
  {
   "cell_type": "code",
   "execution_count": 18,
   "id": "e759010e-993e-4b51-9e18-e7fcb3e67120",
   "metadata": {},
   "outputs": [
    {
     "name": "stdout",
     "output_type": "stream",
     "text": [
      "21 2 32 squared_error\n"
     ]
    }
   ],
   "source": [
    "print(dt_reg.max_depth, dt_reg.min_samples_split, dt_reg.min_samples_leaf, dt_reg.criterion)"
   ]
  },
  {
   "cell_type": "code",
   "execution_count": 97,
   "id": "49741afd-9535-40c7-9368-1cb8bb61caea",
   "metadata": {},
   "outputs": [
    {
     "data": {
      "text/html": [
       "<style>#sk-container-id-34 {color: black;}#sk-container-id-34 pre{padding: 0;}#sk-container-id-34 div.sk-toggleable {background-color: white;}#sk-container-id-34 label.sk-toggleable__label {cursor: pointer;display: block;width: 100%;margin-bottom: 0;padding: 0.3em;box-sizing: border-box;text-align: center;}#sk-container-id-34 label.sk-toggleable__label-arrow:before {content: \"▸\";float: left;margin-right: 0.25em;color: #696969;}#sk-container-id-34 label.sk-toggleable__label-arrow:hover:before {color: black;}#sk-container-id-34 div.sk-estimator:hover label.sk-toggleable__label-arrow:before {color: black;}#sk-container-id-34 div.sk-toggleable__content {max-height: 0;max-width: 0;overflow: hidden;text-align: left;background-color: #f0f8ff;}#sk-container-id-34 div.sk-toggleable__content pre {margin: 0.2em;color: black;border-radius: 0.25em;background-color: #f0f8ff;}#sk-container-id-34 input.sk-toggleable__control:checked~div.sk-toggleable__content {max-height: 200px;max-width: 100%;overflow: auto;}#sk-container-id-34 input.sk-toggleable__control:checked~label.sk-toggleable__label-arrow:before {content: \"▾\";}#sk-container-id-34 div.sk-estimator input.sk-toggleable__control:checked~label.sk-toggleable__label {background-color: #d4ebff;}#sk-container-id-34 div.sk-label input.sk-toggleable__control:checked~label.sk-toggleable__label {background-color: #d4ebff;}#sk-container-id-34 input.sk-hidden--visually {border: 0;clip: rect(1px 1px 1px 1px);clip: rect(1px, 1px, 1px, 1px);height: 1px;margin: -1px;overflow: hidden;padding: 0;position: absolute;width: 1px;}#sk-container-id-34 div.sk-estimator {font-family: monospace;background-color: #f0f8ff;border: 1px dotted black;border-radius: 0.25em;box-sizing: border-box;margin-bottom: 0.5em;}#sk-container-id-34 div.sk-estimator:hover {background-color: #d4ebff;}#sk-container-id-34 div.sk-parallel-item::after {content: \"\";width: 100%;border-bottom: 1px solid gray;flex-grow: 1;}#sk-container-id-34 div.sk-label:hover label.sk-toggleable__label {background-color: #d4ebff;}#sk-container-id-34 div.sk-serial::before {content: \"\";position: absolute;border-left: 1px solid gray;box-sizing: border-box;top: 0;bottom: 0;left: 50%;z-index: 0;}#sk-container-id-34 div.sk-serial {display: flex;flex-direction: column;align-items: center;background-color: white;padding-right: 0.2em;padding-left: 0.2em;position: relative;}#sk-container-id-34 div.sk-item {position: relative;z-index: 1;}#sk-container-id-34 div.sk-parallel {display: flex;align-items: stretch;justify-content: center;background-color: white;position: relative;}#sk-container-id-34 div.sk-item::before, #sk-container-id-34 div.sk-parallel-item::before {content: \"\";position: absolute;border-left: 1px solid gray;box-sizing: border-box;top: 0;bottom: 0;left: 50%;z-index: -1;}#sk-container-id-34 div.sk-parallel-item {display: flex;flex-direction: column;z-index: 1;position: relative;background-color: white;}#sk-container-id-34 div.sk-parallel-item:first-child::after {align-self: flex-end;width: 50%;}#sk-container-id-34 div.sk-parallel-item:last-child::after {align-self: flex-start;width: 50%;}#sk-container-id-34 div.sk-parallel-item:only-child::after {width: 0;}#sk-container-id-34 div.sk-dashed-wrapped {border: 1px dashed gray;margin: 0 0.4em 0.5em 0.4em;box-sizing: border-box;padding-bottom: 0.4em;background-color: white;}#sk-container-id-34 div.sk-label label {font-family: monospace;font-weight: bold;display: inline-block;line-height: 1.2em;}#sk-container-id-34 div.sk-label-container {text-align: center;}#sk-container-id-34 div.sk-container {/* jupyter's `normalize.less` sets `[hidden] { display: none; }` but bootstrap.min.css set `[hidden] { display: none !important; }` so we also need the `!important` here to be able to override the default hidden behavior on the sphinx rendered scikit-learn.org. See: https://github.com/scikit-learn/scikit-learn/issues/21755 */display: inline-block !important;position: relative;}#sk-container-id-34 div.sk-text-repr-fallback {display: none;}</style><div id=\"sk-container-id-34\" class=\"sk-top-container\"><div class=\"sk-text-repr-fallback\"><pre>KNeighborsRegressor(metric=&#x27;cityblock&#x27;, n_neighbors=30)</pre><b>In a Jupyter environment, please rerun this cell to show the HTML representation or trust the notebook. <br />On GitHub, the HTML representation is unable to render, please try loading this page with nbviewer.org.</b></div><div class=\"sk-container\" hidden><div class=\"sk-item\"><div class=\"sk-estimator sk-toggleable\"><input class=\"sk-toggleable__control sk-hidden--visually\" id=\"sk-estimator-id-34\" type=\"checkbox\" checked><label for=\"sk-estimator-id-34\" class=\"sk-toggleable__label sk-toggleable__label-arrow\">KNeighborsRegressor</label><div class=\"sk-toggleable__content\"><pre>KNeighborsRegressor(metric=&#x27;cityblock&#x27;, n_neighbors=30)</pre></div></div></div></div></div>"
      ],
      "text/plain": [
       "KNeighborsRegressor(metric='cityblock', n_neighbors=30)"
      ]
     },
     "execution_count": 97,
     "metadata": {},
     "output_type": "execute_result"
    }
   ],
   "source": [
    "dt_reg = DecisionTreeRegressor(max_depth=21, min_samples_split=2, min_samples_leaf=32, criterion='squared_error')\n",
    "dt_reg.fit(X_tr, y_tr)\n",
    "\n",
    "knn_reg = KNeighborsRegressor(metric='cityblock', weights='uniform', n_neighbors=30)\n",
    "knn_reg.fit(norm.transform(X_tr), y_tr)"
   ]
  },
  {
   "cell_type": "markdown",
   "id": "ffbdce74-bc20-4f1a-a476-e592981473b5",
   "metadata": {},
   "source": [
    "#### Generalization error and Loss"
   ]
  },
  {
   "cell_type": "code",
   "execution_count": 98,
   "id": "a71f47a3-e169-40f3-b955-a30956b8d243",
   "metadata": {},
   "outputs": [
    {
     "name": "stdout",
     "output_type": "stream",
     "text": [
      "Generalization error\n",
      "\n",
      "DEC TREE        KNN            \n",
      "R2: 0.424       R2: 0.503      \n",
      "MSE: 0.056      MSE: 0.050     \n",
      "MAE: 0.164      MAE: 0.158     \n",
      "\n",
      "\n",
      "Loss\n",
      "\n",
      "DEC TREE        KNN            \n",
      "R2: 0.513       R2: 0.527      \n",
      "MSE: 0.047      MSE: 0.048     \n",
      "MAE: 0.150      MAE: 0.155     \n"
     ]
    }
   ],
   "source": [
    "print('Generalization error\\n')\n",
    "\n",
    "print('DEC TREE'.ljust(15), 'KNN'.ljust(15))\n",
    "print('R2: %.3f'.ljust(14) % r2_score(y_ts, dt_reg.predict(X_ts)),\n",
    "      'R2: %.3f'.ljust(14) % r2_score(y_ts, knn_reg.predict(norm.transform(X_ts))))\n",
    "\n",
    "print('MSE: %.3f'.ljust(14) % mean_squared_error(y_ts, dt_reg.predict(X_ts)),\n",
    "      'MSE: %.3f'.ljust(14) % mean_squared_error(y_ts, knn_reg.predict(norm.transform(X_ts))))\n",
    "\n",
    "print('MAE: %.3f'.ljust(14) % mean_absolute_error(y_ts, dt_reg.predict(X_ts)),\n",
    "      'MAE: %.3f'.ljust(14) % mean_absolute_error(y_ts, knn_reg.predict(norm.transform(X_ts))))\n",
    "\n",
    "print('\\n')\n",
    "print('Loss\\n')\n",
    "\n",
    "print('DEC TREE'.ljust(15), 'KNN'.ljust(15))\n",
    "print('R2: %.3f'.ljust(14) % r2_score(y_tr, dt_reg.predict(X_tr)),\n",
    "      'R2: %.3f'.ljust(14) % r2_score(y_tr, knn_reg.predict(norm.transform(X_tr))))\n",
    "\n",
    "print('MSE: %.3f'.ljust(14) % mean_squared_error(y_tr, dt_reg.predict(X_tr)),\n",
    "      'MSE: %.3f'.ljust(14) % mean_squared_error(y_tr, knn_reg.predict(norm.transform(X_tr))))\n",
    "\n",
    "print('MAE: %.3f'.ljust(14) % mean_absolute_error(y_tr, dt_reg.predict(X_tr)),\n",
    "      'MAE: %.3f'.ljust(14) % mean_absolute_error(y_tr, knn_reg.predict(norm.transform(X_tr))))"
   ]
  },
  {
   "cell_type": "markdown",
   "id": "0254e88b-b303-4873-87c9-fb2fd05a2284",
   "metadata": {},
   "source": [
    "#### Conclusioni:\n",
    "- I modelli lineari non riescono a generalizzare molto bene, perché i dati non sono perfettamente allineati lungo una retta/iperpiano\n",
    "- I modelli non lineari (se selezionati con grid search e cross validation) producono risultati migliori, con errori più bassi e R^2 più alto"
   ]
  },
  {
   "cell_type": "code",
   "execution_count": null,
   "id": "44c03849-b136-4606-a378-ba993bd9ff8d",
   "metadata": {},
   "outputs": [],
   "source": []
  }
 ],
 "metadata": {
  "kernelspec": {
   "display_name": "Python 3 (ipykernel)",
   "language": "python",
   "name": "python3"
  },
  "language_info": {
   "codemirror_mode": {
    "name": "ipython",
    "version": 3
   },
   "file_extension": ".py",
   "mimetype": "text/x-python",
   "name": "python",
   "nbconvert_exporter": "python",
   "pygments_lexer": "ipython3",
   "version": "3.11.4"
  }
 },
 "nbformat": 4,
 "nbformat_minor": 5
}
