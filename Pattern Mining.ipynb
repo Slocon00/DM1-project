{
 "cells": [
  {
   "cell_type": "code",
   "execution_count": 279,
   "id": "dcdc162b-b919-43e1-8928-6f210d6305d7",
   "metadata": {},
   "outputs": [],
   "source": [
    "import numpy as np\n",
    "import pandas as pd\n",
    "import matplotlib.pyplot as plt\n",
    "import seaborn as sns\n",
    "\n",
    "from sklearn.metrics import accuracy_score"
   ]
  },
  {
   "cell_type": "code",
   "execution_count": 280,
   "id": "af2ad557-3680-45a0-aaed-c56ae498bc44",
   "metadata": {},
   "outputs": [],
   "source": [
    "df = pd.read_csv('dataset (missing + split)/processed.csv', skipinitialspace=True)"
   ]
  },
  {
   "cell_type": "code",
   "execution_count": 281,
   "id": "2eff75f2-4186-42ba-bb96-55325f093520",
   "metadata": {},
   "outputs": [],
   "source": [
    "df.drop(columns=['name', 'album_name', 'artists'], inplace=True)"
   ]
  },
  {
   "cell_type": "code",
   "execution_count": 282,
   "id": "02b259bc-bc95-4966-9262-7aaf6f4d0f6f",
   "metadata": {},
   "outputs": [],
   "source": [
    "cat = ['explicit','key','mode','time_signature','genre']\n",
    "num = [col for col in df.columns if col not in cat]"
   ]
  },
  {
   "cell_type": "markdown",
   "id": "e40c3aa8-bcaa-4330-a7ac-4c8d1542aaa8",
   "metadata": {},
   "source": [
    "## Preprocessing"
   ]
  },
  {
   "cell_type": "code",
   "execution_count": 283,
   "id": "6203b5b2-59b0-4ad4-a6c5-945f83985d5c",
   "metadata": {},
   "outputs": [
    {
     "data": {
      "text/html": [
       "<div>\n",
       "<style scoped>\n",
       "    .dataframe tbody tr th:only-of-type {\n",
       "        vertical-align: middle;\n",
       "    }\n",
       "\n",
       "    .dataframe tbody tr th {\n",
       "        vertical-align: top;\n",
       "    }\n",
       "\n",
       "    .dataframe thead th {\n",
       "        text-align: right;\n",
       "    }\n",
       "</style>\n",
       "<table border=\"1\" class=\"dataframe\">\n",
       "  <thead>\n",
       "    <tr style=\"text-align: right;\">\n",
       "      <th></th>\n",
       "      <th>explicit</th>\n",
       "      <th>key</th>\n",
       "      <th>mode</th>\n",
       "      <th>time_signature</th>\n",
       "      <th>genre</th>\n",
       "    </tr>\n",
       "  </thead>\n",
       "  <tbody>\n",
       "    <tr>\n",
       "      <th>0</th>\n",
       "      <td>explicit=False</td>\n",
       "      <td>key=5</td>\n",
       "      <td>mode=1.0</td>\n",
       "      <td>time_signature=4.0</td>\n",
       "      <td>genre=j-dance</td>\n",
       "    </tr>\n",
       "    <tr>\n",
       "      <th>1</th>\n",
       "      <td>explicit=False</td>\n",
       "      <td>key=1</td>\n",
       "      <td>mode=0.0</td>\n",
       "      <td>time_signature=4.0</td>\n",
       "      <td>genre=iranian</td>\n",
       "    </tr>\n",
       "    <tr>\n",
       "      <th>2</th>\n",
       "      <td>explicit=False</td>\n",
       "      <td>key=2</td>\n",
       "      <td>mode=1.0</td>\n",
       "      <td>time_signature=4.0</td>\n",
       "      <td>genre=black-metal</td>\n",
       "    </tr>\n",
       "    <tr>\n",
       "      <th>3</th>\n",
       "      <td>explicit=False</td>\n",
       "      <td>key=5</td>\n",
       "      <td>mode=1.0</td>\n",
       "      <td>time_signature=4.0</td>\n",
       "      <td>genre=bluegrass</td>\n",
       "    </tr>\n",
       "    <tr>\n",
       "      <th>4</th>\n",
       "      <td>explicit=False</td>\n",
       "      <td>key=7</td>\n",
       "      <td>mode=1.0</td>\n",
       "      <td>time_signature=4.0</td>\n",
       "      <td>genre=happy</td>\n",
       "    </tr>\n",
       "    <tr>\n",
       "      <th>5</th>\n",
       "      <td>explicit=True</td>\n",
       "      <td>key=5</td>\n",
       "      <td>mode=1.0</td>\n",
       "      <td>time_signature=4.0</td>\n",
       "      <td>genre=industrial</td>\n",
       "    </tr>\n",
       "  </tbody>\n",
       "</table>\n",
       "</div>"
      ],
      "text/plain": [
       "         explicit    key      mode      time_signature              genre\n",
       "0  explicit=False  key=5  mode=1.0  time_signature=4.0      genre=j-dance\n",
       "1  explicit=False  key=1  mode=0.0  time_signature=4.0      genre=iranian\n",
       "2  explicit=False  key=2  mode=1.0  time_signature=4.0  genre=black-metal\n",
       "3  explicit=False  key=5  mode=1.0  time_signature=4.0    genre=bluegrass\n",
       "4  explicit=False  key=7  mode=1.0  time_signature=4.0        genre=happy\n",
       "5   explicit=True  key=5  mode=1.0  time_signature=4.0   genre=industrial"
      ]
     },
     "execution_count": 283,
     "metadata": {},
     "output_type": "execute_result"
    }
   ],
   "source": [
    "# categorical vars\n",
    "\n",
    "for col in cat:\n",
    "    dict = {}\n",
    "    for elem in df[col].unique():\n",
    "        dict[elem] = f'{col}={elem}'\n",
    "        \n",
    "    df[col] = df[col].map(dict)\n",
    "df[cat].iloc[:6]"
   ]
  },
  {
   "cell_type": "code",
   "execution_count": 284,
   "id": "55411c64-8535-40b2-b66f-6f9d323b4332",
   "metadata": {},
   "outputs": [
    {
     "data": {
      "text/html": [
       "<div>\n",
       "<style scoped>\n",
       "    .dataframe tbody tr th:only-of-type {\n",
       "        vertical-align: middle;\n",
       "    }\n",
       "\n",
       "    .dataframe tbody tr th {\n",
       "        vertical-align: top;\n",
       "    }\n",
       "\n",
       "    .dataframe thead th {\n",
       "        text-align: right;\n",
       "    }\n",
       "</style>\n",
       "<table border=\"1\" class=\"dataframe\">\n",
       "  <thead>\n",
       "    <tr style=\"text-align: right;\">\n",
       "      <th></th>\n",
       "      <th>duration_msBin</th>\n",
       "      <th>popularityBin</th>\n",
       "      <th>danceabilityBin</th>\n",
       "      <th>energyBin</th>\n",
       "      <th>speechinessBin</th>\n",
       "      <th>instrumentalnessBin</th>\n",
       "      <th>livenessBin</th>\n",
       "      <th>valenceBin</th>\n",
       "      <th>tempoBin</th>\n",
       "    </tr>\n",
       "  </thead>\n",
       "  <tbody>\n",
       "    <tr>\n",
       "      <th>0</th>\n",
       "      <td>duration_ms=(227826.0, 288557.5]</td>\n",
       "      <td>popularity=(42.0, 94.0]</td>\n",
       "      <td>danceability=(0.6, 0.7]</td>\n",
       "      <td>energy=(0.5, 0.7]</td>\n",
       "      <td>speechiness=(0.09, 0.6]</td>\n",
       "      <td>instrumentalness=(0.003, 0.7]</td>\n",
       "      <td>liveness=(0.28, 0.99]</td>\n",
       "      <td>valence=(0.4, 0.7]</td>\n",
       "      <td>tempo=(142.0, 220.5]</td>\n",
       "    </tr>\n",
       "    <tr>\n",
       "      <th>1</th>\n",
       "      <td>duration_ms=(288557.5, 1240944.0]</td>\n",
       "      <td>popularity=(-0.1, 14.0]</td>\n",
       "      <td>danceability=(-0.1, 0.4]</td>\n",
       "      <td>energy=(-0.1, 0.5]</td>\n",
       "      <td>speechiness=(0.05, 0.09]</td>\n",
       "      <td>instrumentalness=(0.7, 1.0]</td>\n",
       "      <td>liveness=(0.28, 0.99]</td>\n",
       "      <td>valence=(-0.1, 0.2]</td>\n",
       "      <td>tempo=(-0.1, 100.0]</td>\n",
       "    </tr>\n",
       "    <tr>\n",
       "      <th>2</th>\n",
       "      <td>duration_ms=(288557.5, 1240944.0]</td>\n",
       "      <td>popularity=(-0.1, 14.0]</td>\n",
       "      <td>danceability=(-0.1, 0.4]</td>\n",
       "      <td>energy=(0.7, 0.9]</td>\n",
       "      <td>speechiness=(0.04, 0.05]</td>\n",
       "      <td>instrumentalness=(0.7, 1.0]</td>\n",
       "      <td>liveness=(0.13, 0.28]</td>\n",
       "      <td>valence=(0.4, 0.7]</td>\n",
       "      <td>tempo=(100.0, 124.2]</td>\n",
       "    </tr>\n",
       "    <tr>\n",
       "      <th>3</th>\n",
       "      <td>duration_ms=(227826.0, 288557.5]</td>\n",
       "      <td>popularity=(14.0, 24.0]</td>\n",
       "      <td>danceability=(0.4, 0.6]</td>\n",
       "      <td>energy=(0.5, 0.7]</td>\n",
       "      <td>speechiness=(0.05, 0.09]</td>\n",
       "      <td>instrumentalness=(-0.1, 0.003]</td>\n",
       "      <td>liveness=(0.098, 0.13]</td>\n",
       "      <td>valence=(0.2, 0.4]</td>\n",
       "      <td>tempo=(124.2, 142.0]</td>\n",
       "    </tr>\n",
       "    <tr>\n",
       "      <th>4</th>\n",
       "      <td>duration_ms=(288557.5, 1240944.0]</td>\n",
       "      <td>popularity=(24.0, 42.0]</td>\n",
       "      <td>danceability=(0.6, 0.7]</td>\n",
       "      <td>energy=(0.5, 0.7]</td>\n",
       "      <td>speechiness=(0.05, 0.09]</td>\n",
       "      <td>instrumentalness=(0.003, 0.7]</td>\n",
       "      <td>liveness=(0.28, 0.99]</td>\n",
       "      <td>valence=(0.4, 0.7]</td>\n",
       "      <td>tempo=(142.0, 220.5]</td>\n",
       "    </tr>\n",
       "    <tr>\n",
       "      <th>5</th>\n",
       "      <td>duration_ms=(180111.8, 227826.0]</td>\n",
       "      <td>popularity=(24.0, 42.0]</td>\n",
       "      <td>danceability=(0.6, 0.7]</td>\n",
       "      <td>energy=(0.9, 1.0]</td>\n",
       "      <td>speechiness=(0.09, 0.6]</td>\n",
       "      <td>instrumentalness=(-0.1, 0.003]</td>\n",
       "      <td>liveness=(0.28, 0.99]</td>\n",
       "      <td>valence=(0.4, 0.7]</td>\n",
       "      <td>tempo=(100.0, 124.2]</td>\n",
       "    </tr>\n",
       "  </tbody>\n",
       "</table>\n",
       "</div>"
      ],
      "text/plain": [
       "                      duration_msBin            popularityBin  \\\n",
       "0   duration_ms=(227826.0, 288557.5]  popularity=(42.0, 94.0]   \n",
       "1  duration_ms=(288557.5, 1240944.0]  popularity=(-0.1, 14.0]   \n",
       "2  duration_ms=(288557.5, 1240944.0]  popularity=(-0.1, 14.0]   \n",
       "3   duration_ms=(227826.0, 288557.5]  popularity=(14.0, 24.0]   \n",
       "4  duration_ms=(288557.5, 1240944.0]  popularity=(24.0, 42.0]   \n",
       "5   duration_ms=(180111.8, 227826.0]  popularity=(24.0, 42.0]   \n",
       "\n",
       "            danceabilityBin           energyBin            speechinessBin  \\\n",
       "0   danceability=(0.6, 0.7]   energy=(0.5, 0.7]   speechiness=(0.09, 0.6]   \n",
       "1  danceability=(-0.1, 0.4]  energy=(-0.1, 0.5]  speechiness=(0.05, 0.09]   \n",
       "2  danceability=(-0.1, 0.4]   energy=(0.7, 0.9]  speechiness=(0.04, 0.05]   \n",
       "3   danceability=(0.4, 0.6]   energy=(0.5, 0.7]  speechiness=(0.05, 0.09]   \n",
       "4   danceability=(0.6, 0.7]   energy=(0.5, 0.7]  speechiness=(0.05, 0.09]   \n",
       "5   danceability=(0.6, 0.7]   energy=(0.9, 1.0]   speechiness=(0.09, 0.6]   \n",
       "\n",
       "              instrumentalnessBin             livenessBin  \\\n",
       "0   instrumentalness=(0.003, 0.7]   liveness=(0.28, 0.99]   \n",
       "1     instrumentalness=(0.7, 1.0]   liveness=(0.28, 0.99]   \n",
       "2     instrumentalness=(0.7, 1.0]   liveness=(0.13, 0.28]   \n",
       "3  instrumentalness=(-0.1, 0.003]  liveness=(0.098, 0.13]   \n",
       "4   instrumentalness=(0.003, 0.7]   liveness=(0.28, 0.99]   \n",
       "5  instrumentalness=(-0.1, 0.003]   liveness=(0.28, 0.99]   \n",
       "\n",
       "            valenceBin              tempoBin  \n",
       "0   valence=(0.4, 0.7]  tempo=(142.0, 220.5]  \n",
       "1  valence=(-0.1, 0.2]   tempo=(-0.1, 100.0]  \n",
       "2   valence=(0.4, 0.7]  tempo=(100.0, 124.2]  \n",
       "3   valence=(0.2, 0.4]  tempo=(124.2, 142.0]  \n",
       "4   valence=(0.4, 0.7]  tempo=(142.0, 220.5]  \n",
       "5   valence=(0.4, 0.7]  tempo=(100.0, 124.2]  "
      ]
     },
     "execution_count": 284,
     "metadata": {},
     "output_type": "execute_result"
    }
   ],
   "source": [
    "newnum = []\n",
    "for col in num:\n",
    "    newcol = f'{col}Bin'\n",
    "    df[newcol] = pd.qcut(df[col], 4, duplicates='drop', precision=1)\n",
    "    df.drop(columns=[col], inplace=True)\n",
    "    df[newcol] = col + '=' + df[newcol].astype(str)\n",
    "\n",
    "    newnum.append(newcol)\n",
    "df[newnum].iloc[:6]"
   ]
  },
  {
   "cell_type": "markdown",
   "id": "eb7bf0d2-2bf3-48d6-9f75-52eb1528bb9d",
   "metadata": {},
   "source": [
    "## Pattern Mining"
   ]
  },
  {
   "cell_type": "code",
   "execution_count": 285,
   "id": "53e45249-c5ce-4937-ad1e-35107831971a",
   "metadata": {},
   "outputs": [],
   "source": [
    "from fim import fpgrowth"
   ]
  },
  {
   "cell_type": "code",
   "execution_count": 286,
   "id": "d068acf8-1fe8-4730-9bf5-173c5b49fce9",
   "metadata": {},
   "outputs": [],
   "source": [
    "X = df.values.tolist()"
   ]
  },
  {
   "cell_type": "code",
   "execution_count": 287,
   "id": "3bf5db29-89a2-477e-9a13-601859211fca",
   "metadata": {},
   "outputs": [],
   "source": [
    "supp = 1 # 1%\n",
    "zmin = 2  # minimum number of items per item set\n",
    "\n",
    "itemsets = fpgrowth(X, target=\"m\", supp=supp, zmin=zmin, report=\"S\")\n",
    "item_df = pd.DataFrame(itemsets, columns=[\"maximal_itemset\", \"support\"])"
   ]
  },
  {
   "cell_type": "code",
   "execution_count": 288,
   "id": "9fc50a9a-775c-4071-b4f1-84962c242b9a",
   "metadata": {},
   "outputs": [],
   "source": [
    "item_df.sort_values(by='support', ascending=False).to_csv(path_or_buf='/Users/ilariaritelli/Desktop/itemsets.csv', sep=',')"
   ]
  },
  {
   "cell_type": "code",
   "execution_count": 289,
   "id": "2286f3f6-4f19-4be9-a3e9-dc088fa61c28",
   "metadata": {
    "scrolled": true
   },
   "outputs": [],
   "source": [
    "conf = 75\n",
    "rules = fpgrowth(X, target=\"r\", supp=supp, zmin=zmin, conf=conf, report=\"aScl\")\n",
    "rules_df = pd.DataFrame(\n",
    "    rules,\n",
    "    columns=[\n",
    "        \"consequent\",\n",
    "        \"antecedent\",\n",
    "        \"abs_support\",\n",
    "        \"%_support\",\n",
    "        \"confidence\",\n",
    "        \"lift\",\n",
    "    ],\n",
    ")\n",
    "rules_df.sort_values(by=\"lift\", axis=0, ascending=False).to_csv(path_or_buf='/Users/ilariaritelli/Desktop/rules.csv', sep=',')"
   ]
  },
  {
   "cell_type": "code",
   "execution_count": 303,
   "id": "b1df90b1-8034-4e71-bb3c-5af3df043ae4",
   "metadata": {
    "scrolled": true
   },
   "outputs": [
    {
     "data": {
      "text/html": [
       "<div>\n",
       "<style scoped>\n",
       "    .dataframe tbody tr th:only-of-type {\n",
       "        vertical-align: middle;\n",
       "    }\n",
       "\n",
       "    .dataframe tbody tr th {\n",
       "        vertical-align: top;\n",
       "    }\n",
       "\n",
       "    .dataframe thead th {\n",
       "        text-align: right;\n",
       "    }\n",
       "</style>\n",
       "<table border=\"1\" class=\"dataframe\">\n",
       "  <thead>\n",
       "    <tr style=\"text-align: right;\">\n",
       "      <th></th>\n",
       "      <th>consequent</th>\n",
       "      <th>antecedent</th>\n",
       "      <th>abs_support</th>\n",
       "      <th>%_support</th>\n",
       "      <th>confidence</th>\n",
       "      <th>lift</th>\n",
       "    </tr>\n",
       "  </thead>\n",
       "  <tbody>\n",
       "    <tr>\n",
       "      <th>61884</th>\n",
       "      <td>genre=sleep</td>\n",
       "      <td>(popularity=(42.0, 94.0], instrumentalness=(0....</td>\n",
       "      <td>140</td>\n",
       "      <td>0.936455</td>\n",
       "      <td>0.921053</td>\n",
       "      <td>18.458092</td>\n",
       "    </tr>\n",
       "    <tr>\n",
       "      <th>61887</th>\n",
       "      <td>genre=sleep</td>\n",
       "      <td>(popularity=(42.0, 94.0], instrumentalness=(0....</td>\n",
       "      <td>140</td>\n",
       "      <td>0.936455</td>\n",
       "      <td>0.921053</td>\n",
       "      <td>18.458092</td>\n",
       "    </tr>\n",
       "    <tr>\n",
       "      <th>61844</th>\n",
       "      <td>genre=sleep</td>\n",
       "      <td>(popularity=(42.0, 94.0], instrumentalness=(0....</td>\n",
       "      <td>148</td>\n",
       "      <td>0.989967</td>\n",
       "      <td>0.919255</td>\n",
       "      <td>18.422061</td>\n",
       "    </tr>\n",
       "    <tr>\n",
       "      <th>61848</th>\n",
       "      <td>genre=sleep</td>\n",
       "      <td>(popularity=(42.0, 94.0], instrumentalness=(0....</td>\n",
       "      <td>148</td>\n",
       "      <td>0.989967</td>\n",
       "      <td>0.919255</td>\n",
       "      <td>18.422061</td>\n",
       "    </tr>\n",
       "    <tr>\n",
       "      <th>59368</th>\n",
       "      <td>genre=study</td>\n",
       "      <td>(danceability=(0.7, 1.0], instrumentalness=(0....</td>\n",
       "      <td>151</td>\n",
       "      <td>1.010033</td>\n",
       "      <td>0.915152</td>\n",
       "      <td>18.290796</td>\n",
       "    </tr>\n",
       "    <tr>\n",
       "      <th>...</th>\n",
       "      <td>...</td>\n",
       "      <td>...</td>\n",
       "      <td>...</td>\n",
       "      <td>...</td>\n",
       "      <td>...</td>\n",
       "      <td>...</td>\n",
       "    </tr>\n",
       "    <tr>\n",
       "      <th>61287</th>\n",
       "      <td>genre=sleep</td>\n",
       "      <td>(instrumentalness=(0.7, 1.0], valence=(-0.1, 0...</td>\n",
       "      <td>194</td>\n",
       "      <td>1.297659</td>\n",
       "      <td>0.751938</td>\n",
       "      <td>15.068998</td>\n",
       "    </tr>\n",
       "    <tr>\n",
       "      <th>61901</th>\n",
       "      <td>genre=sleep</td>\n",
       "      <td>(popularity=(42.0, 94.0], speechiness=(0.04, 0...</td>\n",
       "      <td>114</td>\n",
       "      <td>0.762542</td>\n",
       "      <td>0.750000</td>\n",
       "      <td>15.030161</td>\n",
       "    </tr>\n",
       "    <tr>\n",
       "      <th>61482</th>\n",
       "      <td>genre=sleep</td>\n",
       "      <td>(liveness=(0.28, 0.99], valence=(-0.1, 0.2], d...</td>\n",
       "      <td>156</td>\n",
       "      <td>1.043478</td>\n",
       "      <td>0.750000</td>\n",
       "      <td>15.030161</td>\n",
       "    </tr>\n",
       "    <tr>\n",
       "      <th>59433</th>\n",
       "      <td>genre=study</td>\n",
       "      <td>(danceability=(0.6, 0.7], instrumentalness=(0....</td>\n",
       "      <td>130</td>\n",
       "      <td>0.869565</td>\n",
       "      <td>0.751445</td>\n",
       "      <td>15.018856</td>\n",
       "    </tr>\n",
       "    <tr>\n",
       "      <th>59429</th>\n",
       "      <td>genre=study</td>\n",
       "      <td>(danceability=(0.6, 0.7], instrumentalness=(0....</td>\n",
       "      <td>130</td>\n",
       "      <td>0.869565</td>\n",
       "      <td>0.751445</td>\n",
       "      <td>15.018856</td>\n",
       "    </tr>\n",
       "  </tbody>\n",
       "</table>\n",
       "<p>88 rows × 6 columns</p>\n",
       "</div>"
      ],
      "text/plain": [
       "        consequent                                         antecedent  \\\n",
       "61884  genre=sleep  (popularity=(42.0, 94.0], instrumentalness=(0....   \n",
       "61887  genre=sleep  (popularity=(42.0, 94.0], instrumentalness=(0....   \n",
       "61844  genre=sleep  (popularity=(42.0, 94.0], instrumentalness=(0....   \n",
       "61848  genre=sleep  (popularity=(42.0, 94.0], instrumentalness=(0....   \n",
       "59368  genre=study  (danceability=(0.7, 1.0], instrumentalness=(0....   \n",
       "...            ...                                                ...   \n",
       "61287  genre=sleep  (instrumentalness=(0.7, 1.0], valence=(-0.1, 0...   \n",
       "61901  genre=sleep  (popularity=(42.0, 94.0], speechiness=(0.04, 0...   \n",
       "61482  genre=sleep  (liveness=(0.28, 0.99], valence=(-0.1, 0.2], d...   \n",
       "59433  genre=study  (danceability=(0.6, 0.7], instrumentalness=(0....   \n",
       "59429  genre=study  (danceability=(0.6, 0.7], instrumentalness=(0....   \n",
       "\n",
       "       abs_support  %_support  confidence       lift  \n",
       "61884          140   0.936455    0.921053  18.458092  \n",
       "61887          140   0.936455    0.921053  18.458092  \n",
       "61844          148   0.989967    0.919255  18.422061  \n",
       "61848          148   0.989967    0.919255  18.422061  \n",
       "59368          151   1.010033    0.915152  18.290796  \n",
       "...            ...        ...         ...        ...  \n",
       "61287          194   1.297659    0.751938  15.068998  \n",
       "61901          114   0.762542    0.750000  15.030161  \n",
       "61482          156   1.043478    0.750000  15.030161  \n",
       "59433          130   0.869565    0.751445  15.018856  \n",
       "59429          130   0.869565    0.751445  15.018856  \n",
       "\n",
       "[88 rows x 6 columns]"
      ]
     },
     "execution_count": 303,
     "metadata": {},
     "output_type": "execute_result"
    }
   ],
   "source": [
    "col = 'genre='\n",
    "rules_df[rules_df['consequent'].str.contains(col)].sort_values(by=\"lift\", axis=0, ascending=False)"
   ]
  },
  {
   "cell_type": "code",
   "execution_count": 114,
   "id": "737d344b-a199-428f-a516-2e237ab028f0",
   "metadata": {},
   "outputs": [
    {
     "data": {
      "text/plain": [
       "('key=0', 'popularity=(42.0, 94.0]', 'speechiness=(-0.1, 0.04]')"
      ]
     },
     "execution_count": 114,
     "metadata": {},
     "output_type": "execute_result"
    }
   ],
   "source": [
    "rules_df.iloc[47811]['antecedent']"
   ]
  },
  {
   "cell_type": "code",
   "execution_count": 16,
   "id": "805633e6-46ec-4dec-97a2-9121e96e02ed",
   "metadata": {},
   "outputs": [
    {
     "data": {
      "image/png": "[encoded data removed]",
      "text/plain": [
       "<Figure size 640x480 with 1 Axes>"
      ]
     },
     "metadata": {},
     "output_type": "display_data"
    }
   ],
   "source": [
    "len_max_it = []\n",
    "len_cl_it = []\n",
    "len_reg_it = []\n",
    "max_supp = 25\n",
    "for i in range(1, max_supp):\n",
    "    max_itemsets = fpgrowth(X, target=\"m\", supp=i, zmin=zmin)\n",
    "    cl_itemsets = fpgrowth(X, target=\"c\", supp=i, zmin=zmin)\n",
    "    reg_itemsets = fpgrowth(X, target=\"s\", supp=i, zmin=zmin)\n",
    "    len_max_it.append(len(max_itemsets))\n",
    "    len_cl_it.append(len(cl_itemsets))\n",
    "    len_reg_it.append(len(reg_itemsets))\n",
    "plt.plot(np.arange(1, max_supp), len_max_it, label=\"maximal\")\n",
    "plt.plot(np.arange(1, max_supp), len_cl_it, label=\"closed\")\n",
    "plt.plot(np.arange(1, max_supp), len_reg_it, label=\"all\")\n",
    "plt.legend()\n",
    "plt.xlabel(\"minsup (%)\")\n",
    "plt.ylabel(\"# of itemsets\")\n",
    "\n",
    "#plt.yscale('log')\n",
    "plt.savefig(fname='./img/pm_itemsets_minsup.png', dpi=300, bbox_inches='tight')\n",
    "\n",
    "plt.show()"
   ]
  },
  {
   "cell_type": "code",
   "execution_count": 176,
   "id": "ef039f5d-e571-4de9-b4e4-05a90b5cfe81",
   "metadata": {
    "scrolled": true
   },
   "outputs": [
    {
     "data": {
      "image/png": "[encoded data removed]",
      "text/plain": [
       "<Figure size 640x480 with 1 Axes>"
      ]
     },
     "metadata": {},
     "output_type": "display_data"
    }
   ],
   "source": [
    "len_rules = []\n",
    "max_conf = 95\n",
    "for i in range(65, max_conf):\n",
    "    rules = fpgrowth(X, target=\"r\", supp=supp, zmin=zmin, conf=i, report=\"aScl\")\n",
    "    len_rules.append(len(rules))\n",
    "plt.plot(np.arange(65, max_conf), len_rules, label='rules')\n",
    "plt.legend()\n",
    "plt.xlabel(\"minconf (%)\")\n",
    "plt.ylabel(\"# of rules\")\n",
    "\n",
    "#plt.yscale('log')\n",
    "plt.savefig(fname='./img/pm_rules_conf.png', dpi=300, bbox_inches='tight')\n",
    "\n",
    "plt.show()"
   ]
  },
  {
   "cell_type": "code",
   "execution_count": 329,
   "id": "f592789e-dc69-45f1-9828-72eda03e31d0",
   "metadata": {},
   "outputs": [
    {
     "name": "stdout",
     "output_type": "stream",
     "text": [
      "4 genre=iranian\n",
      "12 genre=black-metal\n",
      "44 genre=sleep\n",
      "28 genre=study\n"
     ]
    },
    {
     "data": {
      "image/png": "[encoded data removed]",
      "text/plain": [
       "<Figure size 640x480 with 1 Axes>"
      ]
     },
     "metadata": {},
     "output_type": "display_data"
    }
   ],
   "source": [
    "i = 0\n",
    "for genre in df['genre'].unique():\n",
    "    count = rules_df[rules_df['consequent'].str.contains(genre)].shape[0]\n",
    "    if count:\n",
    "        print(count, genre)\n",
    "        plt.bar(x=i,height=rules_df[rules_df['consequent'].str.contains(genre)].shape[0], label=genre)\n",
    "        i+=1\n",
    "plt.legend(labels=['iranian', 'black-metal', 'sleep', 'study'])\n",
    "plt.xticks([])\n",
    "plt.ylabel(\"# of rules\")\n",
    "plt.savefig(fname='./img/pm_rules_bygenre.png', dpi=300, bbox_inches='tight')\n",
    "plt.show()"
   ]
  },
  {
   "cell_type": "markdown",
   "id": "da96d096-e1f7-4d7c-b197-9b762c69da9f",
   "metadata": {},
   "source": [
    "## Classification with association rules"
   ]
  },
  {
   "cell_type": "markdown",
   "id": "c30f6f08-192b-46ea-aefc-b29de3a7b46a",
   "metadata": {},
   "source": [
    "Controllare accuracy di:\n",
    "\n",
    "- (key=10, popularity=(-0.1, 14.0], time_signature=4.0) -> mode=0.0 | 0.825203 \t2.553672\n",
    "- (key=10, popularity=(-0.1, 14.0]) -> mode=0.0 | 0.790780 \t2.447146\n",
    "- (key=0, liveness=(0.098, 0.13], instrumentalness=(-0.1, 0.003], time_signature=4.0, explicit=False) -> mode=1.0 | 0.929936 \t1.373905 \n",
    "- (key=0, popularity=(42.0, 94.0], speechiness=(-0.1, 0.04]) -> mode=1.0 | 0.916667 \t1.354300\n",
    "- (popularity=(42.0, 94.0], instrumentalness=(0.7, 1.0], valence=(-0.1, 0.2], danceability=(-0.1, 0.4], energy=(-0.1, 0.5]) -> genre=sleep | 0.921052 18.4580922\n",
    "- (danceability=(0.7, 1.0], instrumentalness=(0.7, 1.0], duration_ms=(8585.9, 180111.8], tempo=(-0.1, 100.0], time_signature=4.0) -> genre=study | 0.91515 18.2907\n",
    "- (popularity=(14.0, 24.0], energy=(0.9, 1.0], speechiness=(0.09, 0.6], valence=(-0.1, 0.2], danceability=(-0.1, 0.4], explicit=False) -> genre=black-metal | 0.8516 17.066"
   ]
  },
  {
   "cell_type": "code",
   "execution_count": 185,
   "id": "4ac02bdd-0b05-486c-a0ec-10682df3a755",
   "metadata": {},
   "outputs": [],
   "source": [
    "df_ts = pd.read_csv('./dataset (missing + split)/test_processed.csv', skipinitialspace=True)"
   ]
  },
  {
   "cell_type": "markdown",
   "id": "4fbc3be6-59e2-4dad-aa1b-dac4250d6b86",
   "metadata": {
    "jp-MarkdownHeadingCollapsed": true
   },
   "source": [
    "#### (key=10, popularity=(-0.1, 14.0], time_signature=4.0) -> mode=0.0"
   ]
  },
  {
   "cell_type": "code",
   "execution_count": 248,
   "id": "ec4d3f66-fdc3-461b-bb18-fff4dd6e8400",
   "metadata": {},
   "outputs": [],
   "source": [
    "cond = (\n",
    "    (df_ts['key'] == 10) &\n",
    "    (df_ts['time_signature'] == 4.0) &\n",
    "    (df_ts['popularity'] < 14.0)\n",
    ")"
   ]
  },
  {
   "cell_type": "code",
   "execution_count": 249,
   "id": "38422bcd-6d66-4220-9517-70adc0845fba",
   "metadata": {},
   "outputs": [],
   "source": [
    "y_true = df_ts[cond]['mode']"
   ]
  },
  {
   "cell_type": "code",
   "execution_count": 250,
   "id": "058fb589-0171-4533-8a66-dc87b9533422",
   "metadata": {},
   "outputs": [],
   "source": [
    "y_pred = pd.DataFrame(columns=['mode'])\n",
    "for n in range(len(y_true)):\n",
    "    y_pred.loc[n] = 0.0"
   ]
  },
  {
   "cell_type": "code",
   "execution_count": 251,
   "id": "380b8d5c-0e09-4059-9e3b-32ed60b22d59",
   "metadata": {},
   "outputs": [
    {
     "name": "stdout",
     "output_type": "stream",
     "text": [
      "0.875\n"
     ]
    }
   ],
   "source": [
    "print(accuracy_score(y_true=y_true, y_pred=y_pred))"
   ]
  },
  {
   "cell_type": "markdown",
   "id": "34a4031f-a27f-40ba-874c-c8b823333db0",
   "metadata": {
    "jp-MarkdownHeadingCollapsed": true
   },
   "source": [
    "#### (key=10, popularity=(-0.1, 14.0]) -> mode=0.0"
   ]
  },
  {
   "cell_type": "code",
   "execution_count": 123,
   "id": "1f24d7d0-e18c-4f11-b4d1-a25cf634ada4",
   "metadata": {},
   "outputs": [],
   "source": [
    "cond = (\n",
    "    (df_ts['popularity'] <= 0.14) & \n",
    "    (df_ts['key'] == 10)\n",
    ")"
   ]
  },
  {
   "cell_type": "code",
   "execution_count": 124,
   "id": "dc812d0d-1458-41a0-80d6-b4a0b31b9561",
   "metadata": {},
   "outputs": [],
   "source": [
    "y_true = df_ts[cond]['mode']"
   ]
  },
  {
   "cell_type": "code",
   "execution_count": 125,
   "id": "59e4cbf6-799e-481d-b461-04925d7e14d8",
   "metadata": {},
   "outputs": [],
   "source": [
    "y_pred = pd.DataFrame(columns=['mode'])\n",
    "for n in range(len(y_true)):\n",
    "    y_pred.loc[n] = 0.0"
   ]
  },
  {
   "cell_type": "code",
   "execution_count": 126,
   "id": "6390265b-f730-4f59-98f5-52cfc5342f99",
   "metadata": {},
   "outputs": [
    {
     "name": "stdout",
     "output_type": "stream",
     "text": [
      "0.8857142857142857\n"
     ]
    }
   ],
   "source": [
    "print(accuracy_score(y_true=y_true, y_pred=y_pred))"
   ]
  },
  {
   "cell_type": "markdown",
   "id": "f1d0b39a-2666-4fa4-85eb-27ee5df49d35",
   "metadata": {
    "jp-MarkdownHeadingCollapsed": true
   },
   "source": [
    "#### (key=0, liveness=(0.098, 0.13], instrumentalness=(-0.1, 0.003], time_signature=4.0, explicit=False) -> mode=1.0"
   ]
  },
  {
   "cell_type": "code",
   "execution_count": 127,
   "id": "1085b61e-5ad3-40d7-805d-7fba67956c27",
   "metadata": {},
   "outputs": [],
   "source": [
    "cond = (\n",
    "    (df_ts['liveness'] <= 0.13) & \n",
    "    (df_ts['liveness'] > 0.098) & \n",
    "    (df_ts['instrumentalness'] <= 0.003) & \n",
    "    (df_ts['key'] == 0) &\n",
    "    (df_ts['time_signature'] == 4.0) &\n",
    "    (df_ts['explicit'] == False)\n",
    ")"
   ]
  },
  {
   "cell_type": "code",
   "execution_count": 128,
   "id": "a319c0c3-a46f-432e-a33c-5666eb1da59c",
   "metadata": {},
   "outputs": [],
   "source": [
    "y_true = df_ts[cond]['mode']"
   ]
  },
  {
   "cell_type": "code",
   "execution_count": 129,
   "id": "b5765a17-271e-45ea-a686-b452753844b9",
   "metadata": {},
   "outputs": [],
   "source": [
    "y_pred = pd.DataFrame(columns=['mode'])\n",
    "for n in range(len(y_true)):\n",
    "    y_pred.loc[n] = 1.0"
   ]
  },
  {
   "cell_type": "code",
   "execution_count": 130,
   "id": "a64ef694-d3d4-4aab-8496-d97d7122480f",
   "metadata": {},
   "outputs": [
    {
     "name": "stdout",
     "output_type": "stream",
     "text": [
      "0.8363636363636363\n"
     ]
    }
   ],
   "source": [
    "print(accuracy_score(y_true=y_true, y_pred=y_pred))"
   ]
  },
  {
   "cell_type": "markdown",
   "id": "139ea24d-5a44-45e0-9662-5bd1065fa5d5",
   "metadata": {
    "jp-MarkdownHeadingCollapsed": true
   },
   "source": [
    "#### (key=0, popularity=(42.0, 94.0], speechiness=(-0.1, 0.04]) -> mode=1.0"
   ]
  },
  {
   "cell_type": "code",
   "execution_count": 139,
   "id": "dda7d1bc-ac6b-4614-8968-7519b007c7bf",
   "metadata": {},
   "outputs": [],
   "source": [
    "cond = (\n",
    "    (df_ts['speechiness'] <= 0.04) & \n",
    "    (df_ts['popularity'] <= 94.0) &\n",
    "    (df_ts['popularity'] > 42.0) & \n",
    "    (df_ts['key'] == 0)\n",
    ")"
   ]
  },
  {
   "cell_type": "code",
   "execution_count": 140,
   "id": "e40bffeb-0c9f-4ffc-9ebe-d837a92e271c",
   "metadata": {},
   "outputs": [],
   "source": [
    "y_true = df_ts[cond]['mode']"
   ]
  },
  {
   "cell_type": "code",
   "execution_count": 141,
   "id": "dc9c9850-61a2-436e-9b69-473a39ad248c",
   "metadata": {},
   "outputs": [],
   "source": [
    "y_pred = pd.DataFrame(columns=['mode'])\n",
    "for n in range(len(y_true)):\n",
    "    y_pred.loc[n] = 1.0"
   ]
  },
  {
   "cell_type": "code",
   "execution_count": 142,
   "id": "a0cfcb30-a3b3-496b-8e13-fb124031ce88",
   "metadata": {},
   "outputs": [
    {
     "name": "stdout",
     "output_type": "stream",
     "text": [
      "0.8305084745762712\n"
     ]
    }
   ],
   "source": [
    "print(accuracy_score(y_true=y_true, y_pred=y_pred))"
   ]
  },
  {
   "cell_type": "markdown",
   "id": "edefb467-3fdb-4d53-a815-6782d5268910",
   "metadata": {},
   "source": [
    "#### (popularity=(42.0, 94.0], instrumentalness=(0.7, 1.0], valence=(-0.1, 0.2], danceability=(-0.1, 0.4], energy=(-0.1, 0.5]) -> genre=sleep"
   ]
  },
  {
   "cell_type": "code",
   "execution_count": 151,
   "id": "de1894a2-0442-4657-bcf0-529eed32e7be",
   "metadata": {},
   "outputs": [],
   "source": [
    "cond = (\n",
    "    (df_ts['danceability'] <= 0.4) & \n",
    "    (df_ts['instrumentalness'] > 0.7) &\n",
    "    (df_ts['popularity'] <= 94.0) &\n",
    "    (df_ts['popularity'] > 42.0) & \n",
    "    (df_ts['valence'] <= 0.2)\n",
    ")"
   ]
  },
  {
   "cell_type": "code",
   "execution_count": 152,
   "id": "b72ade7f-9fa1-4371-89fb-1cf89c026eaf",
   "metadata": {},
   "outputs": [],
   "source": [
    "y_true = df_ts[cond]['genre']"
   ]
  },
  {
   "cell_type": "code",
   "execution_count": 153,
   "id": "886b41b4-52b9-492e-90b8-16cf2194be00",
   "metadata": {},
   "outputs": [],
   "source": [
    "y_pred = pd.DataFrame(columns=['genre'])\n",
    "for n in range(len(y_true)):\n",
    "    y_pred.loc[n] = 'sleep'"
   ]
  },
  {
   "cell_type": "code",
   "execution_count": 154,
   "id": "3bd14f5d-5436-4339-96da-142fc1931319",
   "metadata": {},
   "outputs": [
    {
     "name": "stdout",
     "output_type": "stream",
     "text": [
      "0.8709677419354839\n"
     ]
    }
   ],
   "source": [
    "print(accuracy_score(y_true=y_true, y_pred=y_pred))"
   ]
  },
  {
   "cell_type": "markdown",
   "id": "f1d17a05-36af-46a1-aa95-896d20d0e087",
   "metadata": {},
   "source": [
    "#### (danceability=(0.7, 1.0], instrumentalness=(0.7, 1.0], duration_ms=(8585.9, 180111.8], tempo=(-0.1, 100.0], time_signature=4.0) -> genre=study"
   ]
  },
  {
   "cell_type": "code",
   "execution_count": 163,
   "id": "58508af0-bbf4-41ff-b7bc-95cd4edffb48",
   "metadata": {},
   "outputs": [],
   "source": [
    "cond = (\n",
    "    (df_ts['danceability'] > 0.7) & \n",
    "    (df_ts['instrumentalness'] > 0.7) &\n",
    "    (df_ts['duration_ms'] <= 180111.8) & \n",
    "    (df_ts['duration_ms'] > 8585.9) &\n",
    "    (df_ts['tempo'] <= 100) &\n",
    "    (df_ts['time_signature'] == 4.0)\n",
    ")"
   ]
  },
  {
   "cell_type": "code",
   "execution_count": 164,
   "id": "5072611e-aedc-4340-8a28-b91300dd8187",
   "metadata": {},
   "outputs": [],
   "source": [
    "y_true = df_ts[cond]['genre']"
   ]
  },
  {
   "cell_type": "code",
   "execution_count": 165,
   "id": "621c9f59-3aee-41bc-94af-620cb3c2bb83",
   "metadata": {},
   "outputs": [],
   "source": [
    "y_pred = pd.DataFrame(columns=['genre'])\n",
    "for n in range(len(y_true)):\n",
    "    y_pred.loc[n] = 'study'"
   ]
  },
  {
   "cell_type": "code",
   "execution_count": 166,
   "id": "a196bce7-a886-4c02-bd73-f75c2e6bcbbd",
   "metadata": {},
   "outputs": [
    {
     "name": "stdout",
     "output_type": "stream",
     "text": [
      "0.7906976744186046\n"
     ]
    }
   ],
   "source": [
    "print(accuracy_score(y_true=y_true, y_pred=y_pred))"
   ]
  },
  {
   "cell_type": "markdown",
   "id": "fad69a35-4534-4b8d-bb8e-d11b5315c8be",
   "metadata": {},
   "source": [
    "#### (popularity=(14.0, 24.0], energy=(0.9, 1.0], speechiness=(0.09, 0.6], valence=(-0.1, 0.2], danceability=(-0.1, 0.4], explicit=False) -> genre=black-metal "
   ]
  },
  {
   "cell_type": "code",
   "execution_count": 256,
   "id": "0ce3f683-ec93-4284-abfa-1efdf6c38de9",
   "metadata": {},
   "outputs": [],
   "source": [
    "cond = (\n",
    "    (df_ts['energy'] > 0.9) &\n",
    "    (df_ts['speechiness'] > 0.09) &\n",
    "    (df_ts['speechiness'] <= 0.6) & \n",
    "    (df_ts['popularity'] <= 24.0) & \n",
    "    (df_ts['popularity'] > 14.0) &\n",
    "    (df_ts['valence'] <= 0.2) &\n",
    "    (df_ts['danceability'] <= 0.4) &\n",
    "    (df_ts['explicit'] <= False)\n",
    ")"
   ]
  },
  {
   "cell_type": "code",
   "execution_count": 257,
   "id": "108b6dc4-32d2-4e98-8232-5cc07a19cecb",
   "metadata": {},
   "outputs": [],
   "source": [
    "y_true = df_ts[cond]['genre']"
   ]
  },
  {
   "cell_type": "code",
   "execution_count": 258,
   "id": "04c30725-c5c7-4117-995e-dc83895f9c3b",
   "metadata": {},
   "outputs": [],
   "source": [
    "y_pred = pd.DataFrame(columns=['genre'])\n",
    "for n in range(len(y_true)):\n",
    "    y_pred.loc[n] = 'black-metal'"
   ]
  },
  {
   "cell_type": "code",
   "execution_count": 259,
   "id": "88132961-6931-4793-9f31-8acddbdfda0c",
   "metadata": {},
   "outputs": [
    {
     "name": "stdout",
     "output_type": "stream",
     "text": [
      "0.8378378378378378\n"
     ]
    }
   ],
   "source": [
    "print(accuracy_score(y_true=y_true, y_pred=y_pred))"
   ]
  },
  {
   "cell_type": "code",
   "execution_count": null,
   "id": "e4bab66f-cf17-440c-97d4-3be05126bfb0",
   "metadata": {},
   "outputs": [],
   "source": []
  }
 ],
 "metadata": {
  "kernelspec": {
   "display_name": "Python 3 (ipykernel)",
   "language": "python",
   "name": "python3"
  },
  "language_info": {
   "codemirror_mode": {
    "name": "ipython",
    "version": 3
   },
   "file_extension": ".py",
   "mimetype": "text/x-python",
   "name": "python",
   "nbconvert_exporter": "python",
   "pygments_lexer": "ipython3",
   "version": "3.11.4"
  }
 },
 "nbformat": 4,
 "nbformat_minor": 5
}
